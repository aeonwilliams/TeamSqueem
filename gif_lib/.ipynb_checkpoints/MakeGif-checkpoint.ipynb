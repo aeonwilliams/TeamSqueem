{
 "cells": [
  {
   "cell_type": "code",
   "execution_count": 9,
   "metadata": {},
   "outputs": [],
   "source": [
    "from PIL import Image, ImageDraw\n",
    "import glob\n",
    "import os\n",
    "\n",
    "###################################################################################################\n",
    "# brief:\n",
    "    # Turns a directory of images into a gif.\n",
    "# params (see default values for examples):\n",
    "    # source_dir - The source directory of the images to turn into a gif. Must include preceding ./\n",
    "    # out_dir    - The directory to save the gif to. Must include preceding ./\n",
    "    # gif_name   - The name of the gif. Do not include filetype.\n",
    "    # duration   - Number of frames in the gif...I think.\n",
    "    # file_type  - File extension for the images. Do not include preceding .\n",
    "# example call:\n",
    "    # MakeGif('./data', './', 'test', 100, 'jpg')\n",
    "###################################################################################################\n",
    "def MakeGif(source_dir='./', out_dir='./', gif_name='test', duration=100, file_type='jpg'):\n",
    "    images = []\n",
    "    \n",
    "    paths = sorted(Path(source_dir).iterdir(), key=os.path.getmtime)\n",
    "    \n",
    "    for file in paths:\n",
    "        if str(file).endswith('.' + file_type):\n",
    "            images.append(Image.open(file))\n",
    "\n",
    "    if(len(images) > 0):\n",
    "        images[0].save(out_dir + '/' + gif_name + '.gif', save_all=True, append_images=images[1:], optimize=False, duration=100, loop=0)"
   ]
  },
  {
   "cell_type": "code",
   "execution_count": 18,
   "metadata": {},
   "outputs": [],
   "source": [
    "MakeGif('./data', './', 'test', 100, 'jpg')"
   ]
  }
 ],
 "metadata": {
  "kernelspec": {
   "display_name": "Python 3",
   "language": "python",
   "name": "python3"
  },
  "language_info": {
   "codemirror_mode": {
    "name": "ipython",
    "version": 3
   },
   "file_extension": ".py",
   "mimetype": "text/x-python",
   "name": "python",
   "nbconvert_exporter": "python",
   "pygments_lexer": "ipython3",
   "version": "3.8.3"
  }
 },
 "nbformat": 4,
 "nbformat_minor": 2
}
