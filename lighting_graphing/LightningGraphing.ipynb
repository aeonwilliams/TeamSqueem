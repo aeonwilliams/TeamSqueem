{
 "cells": [
  {
   "cell_type": "code",
   "execution_count": 1,
   "metadata": {},
   "outputs": [
    {
     "data": {
      "text/html": [
       "<style>.container { width:100% !important; }</style>"
      ],
      "text/plain": [
       "<IPython.core.display.HTML object>"
      ]
     },
     "metadata": {},
     "output_type": "display_data"
    }
   ],
   "source": [
    "from IPython.core.display import display, HTML\n",
    "display(HTML(\"<style>.container { width:100% !important; }</style>\")) # makes the notebook fill the whole window\n",
    "\n",
    "import numpy as np\n",
    "import pandas as pd\n",
    "import matplotlib as mpl\n",
    "from matplotlib import pyplot as plt\n",
    "from matplotlib.pyplot import figure\n",
    "\n",
    "# from bokeh.io import output_file, show\n",
    "# from bokeh.models import ColumnDataSource, GMapOptions\n",
    "# from bokeh.plotting import gmap\n",
    "\n",
    "from PIL import Image, ImageDraw\n",
    "import os\n",
    "import shutil\n",
    "\n",
    "from mpl_toolkits.basemap import Basemap\n",
    "\n",
    "%matplotlib inline\n",
    "\n",
    "#Turn off interactive plotting for pyplot\n",
    "plt.ioff()"
   ]
  },
  {
   "cell_type": "code",
   "execution_count": 2,
   "metadata": {},
   "outputs": [],
   "source": [
    "# Read in a particular date\n",
    "date = \"20170901\"\n",
    "df = pd.read_csv('./WWLN_2017/A' + date + '.loc',header=None,names=[\"Date\",\"Time\",\"Latitude\",\"Longitude\",\"Error\",\"Number of Stations\"],low_memory=False)\n",
    "\n",
    "#Functions to get the time\n",
    "def GetHours(x):\n",
    "    hours = int(x[0:2])\n",
    "    return hours\n",
    "\n",
    "def GetMinutes(x):\n",
    "    minutes = int(x[3:5])\n",
    "    return minutes\n",
    "\n",
    "def GetSeconds(x):\n",
    "    seconds = int(x[6:8])\n",
    "    return seconds\n",
    "\n",
    "def GetMicroseconds(x):\n",
    "    ms = int(x[9:])\n",
    "    return ms\n",
    "\n",
    "def GetTotalMinute(x):\n",
    "    hours = int(x[0:2])\n",
    "    minutes = int(x[3:5])\n",
    "    return 60 * hours + minutes\n",
    "\n",
    "df['Hours'] = df['Time'].apply(GetHours)\n",
    "df['Minutes'] = df['Time'].apply(GetMinutes)\n",
    "df['Seconds'] = df['Time'].apply(GetSeconds)\n",
    "df['MicroSeconds'] = df['Time'].apply(GetMicroseconds)\n",
    "df['TotalMinutes'] = df['Time'].apply(GetTotalMinute)"
   ]
  },
  {
   "cell_type": "code",
   "execution_count": 3,
   "metadata": {},
   "outputs": [],
   "source": [
    "# Make a directory to store the images\n",
    "os.mkdir('./data/images')"
   ]
  },
  {
   "cell_type": "code",
   "execution_count": 4,
   "metadata": {},
   "outputs": [],
   "source": [
    "plt.figure(figsize=(30,15))\n",
    "# Map of the world\n",
    "m = Basemap(llcrnrlon=-180, llcrnrlat=-90,urcrnrlon=180,urcrnrlat=90,lon_0=0,lat_0=0)\n",
    "m.drawmapboundary(fill_color='#A6CAE0', linewidth=0)\n",
    "m.fillcontinents(color='grey', alpha=0.7, lake_color='grey')\n",
    "m.drawcoastlines(linewidth=0.1, color=\"white\")\n",
    " \n",
    "# Plot the lightning data\n",
    "m.plot(df[df['TotalMinutes'] <= 30]['Longitude'], df[df['TotalMinutes'] <= 30]['Latitude'], linestyle='none', marker=\"o\", markersize=8, alpha=0.7, c=\"orange\", markeredgecolor=\"black\", markeredgewidth=1)\n",
    "plt.title(\"0 minutes\")\n",
    "plt.savefig(\"./data/test\",bbox_inches='tight')"
   ]
  },
  {
   "cell_type": "code",
   "execution_count": 5,
   "metadata": {},
   "outputs": [],
   "source": [
    "images = []\n",
    "\n",
    "#Turn off the max figure warnjing for MatPlotLib\n",
    "mpl.rcParams.update({'figure.max_open_warning': 0})\n",
    "\n",
    "#Every 30 minutes, plot the lightning data\n",
    "for x in range(0,1440,30):#0,1440,30\n",
    "    plt.figure(figsize=(30,15))\n",
    "    # Map of the world\n",
    "    m = Basemap(llcrnrlon=-180, llcrnrlat=-90,urcrnrlon=180,urcrnrlat=90,lon_0=0,lat_0=0)\n",
    "    m.drawmapboundary(fill_color='#A6CAE0', linewidth=0)\n",
    "    m.fillcontinents(color='grey', alpha=0.7, lake_color='grey')\n",
    "    m.drawcoastlines(linewidth=0.1, color=\"white\")\n",
    "\n",
    "    # Plot the lightning data\n",
    "    m.plot(df[(df['TotalMinutes'] <= x + 30) & (df['TotalMinutes'] >= x)]['Longitude'], df[(df['TotalMinutes'] <= x + 30) & (df['TotalMinutes'] >= x)]['Latitude'], linestyle='none', marker=\"o\", markersize=8, alpha=0.7, c=\"orange\", markeredgecolor=\"black\", markeredgewidth=1)\n",
    "    plt.title(str(x) + \"minutes\")\n",
    "    name = \"./data/images/Minute\" + str(x)\n",
    "    plt.savefig(name,bbox_inches='tight')\n",
    "    #store images for gif creation\n",
    "    images.append(Image.open(name + '.png'))\n",
    "\n",
    "#create gif\n",
    "images[0].save('./data/gifs/'+ date + '.gif', save_all=True, append_images=images[1:], optimize=False, duration=100, loop=0)"
   ]
  },
  {
   "cell_type": "code",
   "execution_count": 6,
   "metadata": {},
   "outputs": [],
   "source": [
    "shutil.rmtree('./data/images')"
   ]
  },
  {
   "cell_type": "code",
   "execution_count": null,
   "metadata": {},
   "outputs": [],
   "source": []
  },
  {
   "cell_type": "code",
   "execution_count": 3,
   "metadata": {},
   "outputs": [
    {
     "data": {
      "image/png": "[encoded data removed]",
      "text/plain": [
       "<Figure size 576x576 with 1 Axes>"
      ]
     },
     "metadata": {
      "needs_background": "light"
     },
     "output_type": "display_data"
    }
   ],
   "source": [
    "#Import Fuzzy C-Means, put it on the data, run it, plot it\n",
    "# VERY SLOW\n",
    "import FCM\n",
    "\n",
    "test = FCM.FCM(df[df['TotalMinutes'] <= 20][['Latitude','Longitude']],15,2,maxiter=5,genCentroids=True)\n",
    "\n",
    "test.fit()\n",
    "\n",
    "test.plot()"
   ]
  },
  {
   "cell_type": "code",
   "execution_count": 6,
   "metadata": {},
   "outputs": [
    {
     "data": {
      "text/plain": [
       "1.0000000000000002"
      ]
     },
     "execution_count": 6,
     "metadata": {},
     "output_type": "execute_result"
    }
   ],
   "source": [
    "test._A[0].sum()"
   ]
  }
 ],
 "metadata": {
  "kernelspec": {
   "display_name": "Python 3",
   "language": "python",
   "name": "python3"
  },
  "language_info": {
   "codemirror_mode": {
    "name": "ipython",
    "version": 3
   },
   "file_extension": ".py",
   "mimetype": "text/x-python",
   "name": "python",
   "nbconvert_exporter": "python",
   "pygments_lexer": "ipython3",
   "version": "3.7.4"
  }
 },
 "nbformat": 4,
 "nbformat_minor": 2
}
