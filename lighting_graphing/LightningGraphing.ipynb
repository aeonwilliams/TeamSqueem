{
 "cells": [
  {
   "cell_type": "code",
   "execution_count": 1,
   "metadata": {},
   "outputs": [
    {
     "data": {
      "text/html": [
       "<style>.container { width:100% !important; }</style>"
      ],
      "text/plain": [
       "<IPython.core.display.HTML object>"
      ]
     },
     "metadata": {},
     "output_type": "display_data"
    },
    {
     "ename": "ModuleNotFoundError",
     "evalue": "No module named 'matplotlib.colorbar'",
     "output_type": "error",
     "traceback": [
      "\u001b[1;31m---------------------------------------------------------------------------\u001b[0m",
      "\u001b[1;31mModuleNotFoundError\u001b[0m                       Traceback (most recent call last)",
      "\u001b[1;32m<ipython-input-1-f6175ad5cb2c>\u001b[0m in \u001b[0;36m<module>\u001b[1;34m\u001b[0m\n\u001b[0;32m      5\u001b[0m \u001b[1;32mimport\u001b[0m \u001b[0mpandas\u001b[0m \u001b[1;32mas\u001b[0m \u001b[0mpd\u001b[0m\u001b[1;33m\u001b[0m\u001b[1;33m\u001b[0m\u001b[0m\n\u001b[0;32m      6\u001b[0m \u001b[1;32mimport\u001b[0m \u001b[0mmatplotlib\u001b[0m \u001b[1;32mas\u001b[0m \u001b[0mmpl\u001b[0m\u001b[1;33m\u001b[0m\u001b[1;33m\u001b[0m\u001b[0m\n\u001b[1;32m----> 7\u001b[1;33m \u001b[1;32mfrom\u001b[0m \u001b[0mmatplotlib\u001b[0m \u001b[1;32mimport\u001b[0m \u001b[0mpyplot\u001b[0m \u001b[1;32mas\u001b[0m \u001b[0mplt\u001b[0m\u001b[1;33m\u001b[0m\u001b[1;33m\u001b[0m\u001b[0m\n\u001b[0m\u001b[0;32m      8\u001b[0m \u001b[1;32mfrom\u001b[0m \u001b[0mmatplotlib\u001b[0m\u001b[1;33m.\u001b[0m\u001b[0mpyplot\u001b[0m \u001b[1;32mimport\u001b[0m \u001b[0mfigure\u001b[0m\u001b[1;33m\u001b[0m\u001b[1;33m\u001b[0m\u001b[0m\n\u001b[0;32m      9\u001b[0m \u001b[1;33m\u001b[0m\u001b[0m\n",
      "\u001b[1;32m~\\Anaconda3\\lib\\site-packages\\matplotlib\\pyplot.py\u001b[0m in \u001b[0;36m<module>\u001b[1;34m\u001b[0m\n\u001b[0;32m     34\u001b[0m \u001b[1;32mfrom\u001b[0m \u001b[0mcycler\u001b[0m \u001b[1;32mimport\u001b[0m \u001b[0mcycler\u001b[0m\u001b[1;33m\u001b[0m\u001b[1;33m\u001b[0m\u001b[0m\n\u001b[0;32m     35\u001b[0m \u001b[1;32mimport\u001b[0m \u001b[0mmatplotlib\u001b[0m\u001b[1;33m\u001b[0m\u001b[1;33m\u001b[0m\u001b[0m\n\u001b[1;32m---> 36\u001b[1;33m \u001b[1;32mimport\u001b[0m \u001b[0mmatplotlib\u001b[0m\u001b[1;33m.\u001b[0m\u001b[0mcolorbar\u001b[0m\u001b[1;33m\u001b[0m\u001b[1;33m\u001b[0m\u001b[0m\n\u001b[0m\u001b[0;32m     37\u001b[0m \u001b[1;32mimport\u001b[0m \u001b[0mmatplotlib\u001b[0m\u001b[1;33m.\u001b[0m\u001b[0mimage\u001b[0m\u001b[1;33m\u001b[0m\u001b[1;33m\u001b[0m\u001b[0m\n\u001b[0;32m     38\u001b[0m \u001b[1;32mfrom\u001b[0m \u001b[0mmatplotlib\u001b[0m \u001b[1;32mimport\u001b[0m \u001b[0mrcsetup\u001b[0m\u001b[1;33m,\u001b[0m \u001b[0mstyle\u001b[0m\u001b[1;33m\u001b[0m\u001b[1;33m\u001b[0m\u001b[0m\n",
      "\u001b[1;31mModuleNotFoundError\u001b[0m: No module named 'matplotlib.colorbar'"
     ]
    }
   ],
   "source": [
    "from IPython.core.display import display, HTML\n",
    "display(HTML(\"<style>.container { width:100% !important; }</style>\")) # makes the notebook fill the whole window\n",
    "\n",
    "import numpy as np\n",
    "import pandas as pd\n",
    "import matplotlib as mpl\n",
    "from matplotlib import pyplot as plt\n",
    "from matplotlib.pyplot import figure\n",
    "\n",
    "# from bokeh.io import output_file, show\n",
    "# from bokeh.models import ColumnDataSource, GMapOptions\n",
    "# from bokeh.plotting import gmap\n",
    "\n",
    "from PIL import Image, ImageDraw\n",
    "import os\n",
    "import shutil\n",
    "\n",
    "from mpl_toolkits.basemap import Basemap\n",
    "\n",
    "%matplotlib inline\n",
    "\n",
    "#Turn off interactive plotting for pyplot\n",
    "plt.ioff()"
   ]
  },
  {
   "cell_type": "code",
   "execution_count": null,
   "metadata": {},
   "outputs": [],
   "source": [
    "# Read in a particular date\n",
    "date = \"20170901\"\n",
    "df = pd.read_csv('./WWLN_2017/A' + date + '.loc',header=None,names=[\"Date\",\"Time\",\"Latitude\",\"Longitude\",\"Error\",\"Number of Stations\"],low_memory=False)\n",
    "\n",
    "#Functions to get the time\n",
    "def GetHours(x):\n",
    "    hours = int(x[0:2])\n",
    "    return hours\n",
    "\n",
    "def GetMinutes(x):\n",
    "    minutes = int(x[3:5])\n",
    "    return minutes\n",
    "\n",
    "def GetSeconds(x):\n",
    "    seconds = int(x[6:8])\n",
    "    return seconds\n",
    "\n",
    "def GetMicroseconds(x):\n",
    "    ms = int(x[9:])\n",
    "    return ms\n",
    "\n",
    "def GetTotalMinute(x):\n",
    "    hours = int(x[0:2])\n",
    "    minutes = int(x[3:5])\n",
    "    return 60 * hours + minutes\n",
    "\n",
    "df['Hours'] = df['Time'].apply(GetHours)\n",
    "df['Minutes'] = df['Time'].apply(GetMinutes)\n",
    "df['Seconds'] = df['Time'].apply(GetSeconds)\n",
    "df['MicroSeconds'] = df['Time'].apply(GetMicroseconds)\n",
    "df['TotalMinutes'] = df['Time'].apply(GetTotalMinute)"
   ]
  },
  {
   "cell_type": "code",
   "execution_count": null,
   "metadata": {},
   "outputs": [],
   "source": [
    "# Make a directory to store the images\n",
    "os.mkdir('./data/images')"
   ]
  },
  {
   "cell_type": "code",
   "execution_count": null,
   "metadata": {},
   "outputs": [],
   "source": [
    "plt.figure(figsize=(30,15))\n",
    "# Map of the world\n",
    "m = Basemap(llcrnrlon=-180, llcrnrlat=-90,urcrnrlon=180,urcrnrlat=90,lon_0=0,lat_0=0)\n",
    "m.drawmapboundary(fill_color='#A6CAE0', linewidth=0)\n",
    "m.fillcontinents(color='grey', alpha=0.7, lake_color='grey')\n",
    "m.drawcoastlines(linewidth=0.1, color=\"white\")\n",
    " \n",
    "# Plot the lightning data\n",
    "m.plot(df[df['TotalMinutes'] <= 30]['Longitude'], df[df['TotalMinutes'] <= 30]['Latitude'], linestyle='none', marker=\"o\", markersize=8, alpha=0.7, c=\"orange\", markeredgecolor=\"black\", markeredgewidth=1)\n",
    "plt.title(\"0 minutes\")\n",
    "plt.savefig(\"./data/test\",bbox_inches='tight')"
   ]
  },
  {
   "cell_type": "code",
   "execution_count": null,
   "metadata": {},
   "outputs": [],
   "source": [
    "images = []\n",
    "\n",
    "#Turn off the max figure warnjing for MatPlotLib\n",
    "mpl.rcParams.update({'figure.max_open_warning': 0})\n",
    "\n",
    "#Every 30 minutes, plot the lightning data\n",
    "for x in range(0,1440,30):#0,1440,30\n",
    "    plt.figure(figsize=(30,15))\n",
    "    # Map of the world\n",
    "    m = Basemap(llcrnrlon=-180, llcrnrlat=-90,urcrnrlon=180,urcrnrlat=90,lon_0=0,lat_0=0)\n",
    "    m.drawmapboundary(fill_color='#A6CAE0', linewidth=0)\n",
    "    m.fillcontinents(color='grey', alpha=0.7, lake_color='grey')\n",
    "    m.drawcoastlines(linewidth=0.1, color=\"white\")\n",
    "\n",
    "    # Plot the lightning data\n",
    "    m.plot(df[(df['TotalMinutes'] <= x + 30) & (df['TotalMinutes'] >= x)]['Longitude'], df[(df['TotalMinutes'] <= x + 30) & (df['TotalMinutes'] >= x)]['Latitude'], linestyle='none', marker=\"o\", markersize=8, alpha=0.7, c=\"orange\", markeredgecolor=\"black\", markeredgewidth=1)\n",
    "    plt.title(str(x) + \"minutes\")\n",
    "    name = \"./data/images/Minute\" + str(x)\n",
    "    plt.savefig(name,bbox_inches='tight')\n",
    "    #store images for gif creation\n",
    "    images.append(Image.open(name + '.png'))\n",
    "\n",
    "#create gif\n",
    "images[0].save('./data/gifs/'+ date + '.gif', save_all=True, append_images=images[1:], optimize=False, duration=100, loop=0)"
   ]
  },
  {
   "cell_type": "code",
   "execution_count": null,
   "metadata": {},
   "outputs": [],
   "source": [
    "shutil.rmtree('./data/images')"
   ]
  },
  {
   "cell_type": "code",
   "execution_count": null,
   "metadata": {},
   "outputs": [],
   "source": []
  },
  {
   "cell_type": "code",
   "execution_count": null,
   "metadata": {},
   "outputs": [],
   "source": [
    "#Import Fuzzy C-Means, put it on the data, run it, plot it\n",
    "# VERY SLOW\n",
    "import FCM\n",
    "\n",
    "test = FCM.FCM(df[df['TotalMinutes'] <= 20][['Latitude','Longitude']],15,2,maxiter=5,genCentroids=True)\n",
    "\n",
    "test.fit()\n",
    "\n",
    "test.plot()"
   ]
  },
  {
   "cell_type": "code",
   "execution_count": null,
   "metadata": {},
   "outputs": [],
   "source": [
    "test._A[0].sum()"
   ]
  }
 ],
 "metadata": {
  "kernelspec": {
   "display_name": "Python 3",
   "language": "python",
   "name": "python3"
  },
  "language_info": {
   "codemirror_mode": {
    "name": "ipython",
    "version": 3
   },
   "file_extension": ".py",
   "mimetype": "text/x-python",
   "name": "python",
   "nbconvert_exporter": "python",
   "pygments_lexer": "ipython3",
   "version": "3.7.4"
  }
 },
 "nbformat": 4,
 "nbformat_minor": 2
}
