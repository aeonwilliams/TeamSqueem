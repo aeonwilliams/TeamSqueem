{
 "cells": [
  {
   "cell_type": "code",
   "execution_count": 1,
   "metadata": {},
   "outputs": [
    {
     "data": {
      "text/html": [
       "<style>.container { width:100% !important; }</style>"
      ],
      "text/plain": [
       "<IPython.core.display.HTML object>"
      ]
     },
     "metadata": {},
     "output_type": "display_data"
    }
   ],
   "source": [
    "from IPython.core.display import display, HTML\n",
    "display(HTML(\"<style>.container { width:100% !important; }</style>\")) # makes the notebook fill the whole window\n",
    "\n",
    "import numpy as np\n",
    "import pandas as pd\n",
    "import matplotlib as mpl\n",
    "from matplotlib import pyplot as plt\n",
    "\n",
    "from sklearn.cluster import KMeans\n",
    "from sklearn.metrics import silhouette_score\n",
    "import seaborn as sns; sns.set()\n",
    "import csv\n",
    "\n",
    "#there is currently a bug in panda's scatter_matrix that produces a warning that has no affect on what I'm doin :)\n",
    "import warnings\n",
    "warnings.filterwarnings(\"ignore\")"
   ]
  },
  {
   "cell_type": "code",
   "execution_count": 2,
   "metadata": {
    "scrolled": true
   },
   "outputs": [
    {
     "data": {
      "text/html": [
       "<div>\n",
       "<style scoped>\n",
       "    .dataframe tbody tr th:only-of-type {\n",
       "        vertical-align: middle;\n",
       "    }\n",
       "\n",
       "    .dataframe tbody tr th {\n",
       "        vertical-align: top;\n",
       "    }\n",
       "\n",
       "    .dataframe thead th {\n",
       "        text-align: right;\n",
       "    }\n",
       "</style>\n",
       "<table border=\"1\" class=\"dataframe\">\n",
       "  <thead>\n",
       "    <tr style=\"text-align: right;\">\n",
       "      <th></th>\n",
       "      <th>Year</th>\n",
       "      <th>Month</th>\n",
       "      <th>Day</th>\n",
       "      <th>Hour</th>\n",
       "      <th>Min</th>\n",
       "      <th>Sec</th>\n",
       "      <th>Lat</th>\n",
       "      <th>Long</th>\n",
       "      <th>Dist_East_West</th>\n",
       "      <th>Dist_North_South</th>\n",
       "    </tr>\n",
       "  </thead>\n",
       "  <tbody>\n",
       "    <tr>\n",
       "      <th>0</th>\n",
       "      <td>2017</td>\n",
       "      <td>8</td>\n",
       "      <td>27</td>\n",
       "      <td>17</td>\n",
       "      <td>56</td>\n",
       "      <td>9.7207</td>\n",
       "      <td>12.7452</td>\n",
       "      <td>-13.4960</td>\n",
       "      <td>271.5710</td>\n",
       "      <td>138.4600</td>\n",
       "    </tr>\n",
       "    <tr>\n",
       "      <th>1</th>\n",
       "      <td>2017</td>\n",
       "      <td>8</td>\n",
       "      <td>27</td>\n",
       "      <td>17</td>\n",
       "      <td>56</td>\n",
       "      <td>19.4011</td>\n",
       "      <td>12.0782</td>\n",
       "      <td>-16.2206</td>\n",
       "      <td>-23.9866</td>\n",
       "      <td>64.2929</td>\n",
       "    </tr>\n",
       "    <tr>\n",
       "      <th>2</th>\n",
       "      <td>2017</td>\n",
       "      <td>8</td>\n",
       "      <td>27</td>\n",
       "      <td>17</td>\n",
       "      <td>56</td>\n",
       "      <td>36.8910</td>\n",
       "      <td>9.6958</td>\n",
       "      <td>-8.5119</td>\n",
       "      <td>820.7290</td>\n",
       "      <td>-200.6180</td>\n",
       "    </tr>\n",
       "    <tr>\n",
       "      <th>3</th>\n",
       "      <td>2017</td>\n",
       "      <td>8</td>\n",
       "      <td>27</td>\n",
       "      <td>17</td>\n",
       "      <td>56</td>\n",
       "      <td>42.7955</td>\n",
       "      <td>10.8790</td>\n",
       "      <td>-10.6200</td>\n",
       "      <td>587.4700</td>\n",
       "      <td>-69.0520</td>\n",
       "    </tr>\n",
       "    <tr>\n",
       "      <th>4</th>\n",
       "      <td>2017</td>\n",
       "      <td>8</td>\n",
       "      <td>27</td>\n",
       "      <td>17</td>\n",
       "      <td>56</td>\n",
       "      <td>46.1723</td>\n",
       "      <td>9.9119</td>\n",
       "      <td>-12.6214</td>\n",
       "      <td>370.0740</td>\n",
       "      <td>-176.5890</td>\n",
       "    </tr>\n",
       "  </tbody>\n",
       "</table>\n",
       "</div>"
      ],
      "text/plain": [
       "   Year  Month  Day  Hour  Min      Sec      Lat     Long  Dist_East_West  \\\n",
       "0  2017      8   27    17   56   9.7207  12.7452 -13.4960        271.5710   \n",
       "1  2017      8   27    17   56  19.4011  12.0782 -16.2206        -23.9866   \n",
       "2  2017      8   27    17   56  36.8910   9.6958  -8.5119        820.7290   \n",
       "3  2017      8   27    17   56  42.7955  10.8790 -10.6200        587.4700   \n",
       "4  2017      8   27    17   56  46.1723   9.9119 -12.6214        370.0740   \n",
       "\n",
       "   Dist_North_South  \n",
       "0          138.4600  \n",
       "1           64.2929  \n",
       "2         -200.6180  \n",
       "3          -69.0520  \n",
       "4         -176.5890  "
      ]
     },
     "execution_count": 2,
     "metadata": {},
     "output_type": "execute_result"
    }
   ],
   "source": [
    "df = pd.read_csv('./Irma Storm centered/ATL_17_11_Irma_WWLLN_Locations.txt',header=None,names=[\"Year\",\"Month\",\"Day\",\"Hour\",\"Min\",\"Sec\",\"Lat\",\"Long\",\"Dist_East_West\",\"Dist_North_South\"],low_memory=False, delim_whitespace=True)\n",
    "df.head()"
   ]
  },
  {
   "cell_type": "code",
   "execution_count": 3,
   "metadata": {},
   "outputs": [
    {
     "data": {
      "text/plain": [
       "'print(\"Rows: \", len(df))\\ndf[\\'Hours\\'] = df[\\'Time\\'].apply(GetHours)\\ndf[\\'Minutes\\'] = df[\\'Time\\'].apply(GetMinutes)\\ndf[\\'Seconds\\'] = df[\\'Time\\'].apply(GetSeconds)\\ndf[\\'MicroSeconds\\'] = df[\\'Time\\'].apply(GetMicroseconds)\\ndf[\\'TotalMinutes\\'] = df[\\'Time\\'].apply(GetTotalMinute)\\n\\ndf.drop(df[df[\\'TotalMinutes\\'] <= 30].index, inplace=True)\\nprint(\"Rows: \", len(df))'"
      ]
     },
     "execution_count": 3,
     "metadata": {},
     "output_type": "execute_result"
    }
   ],
   "source": [
    "def GetHours(x):\n",
    "    hours = int(x[0:2])\n",
    "    return hours\n",
    "\n",
    "def GetMinutes(x):\n",
    "    minutes = int(x[3:5])\n",
    "    return minutes\n",
    "\n",
    "def GetSeconds(x):\n",
    "    seconds = int(x[6:8])\n",
    "    return seconds\n",
    "\n",
    "def GetMicroseconds(x):\n",
    "    ms = int(x[9:])\n",
    "    return ms\n",
    "\n",
    "def GetTotalMinute(x):\n",
    "    hours = int(x[0:2])\n",
    "    minutes = int(x[3:5])\n",
    "    return 60 * hours + minutes\n",
    "\n",
    "'''print(\"Rows: \", len(df))\n",
    "df['Hours'] = df['Time'].apply(GetHours)\n",
    "df['Minutes'] = df['Time'].apply(GetMinutes)\n",
    "df['Seconds'] = df['Time'].apply(GetSeconds)\n",
    "df['MicroSeconds'] = df['Time'].apply(GetMicroseconds)\n",
    "df['TotalMinutes'] = df['Time'].apply(GetTotalMinute)\n",
    "\n",
    "df.drop(df[df['TotalMinutes'] <= 30].index, inplace=True)\n",
    "print(\"Rows: \", len(df))'''"
   ]
  },
  {
   "cell_type": "code",
   "execution_count": 4,
   "metadata": {
    "scrolled": false
   },
   "outputs": [
    {
     "data": {
      "text/html": [
       "<div>\n",
       "<style scoped>\n",
       "    .dataframe tbody tr th:only-of-type {\n",
       "        vertical-align: middle;\n",
       "    }\n",
       "\n",
       "    .dataframe tbody tr th {\n",
       "        vertical-align: top;\n",
       "    }\n",
       "\n",
       "    .dataframe thead th {\n",
       "        text-align: right;\n",
       "    }\n",
       "</style>\n",
       "<table border=\"1\" class=\"dataframe\">\n",
       "  <thead>\n",
       "    <tr style=\"text-align: right;\">\n",
       "      <th></th>\n",
       "      <th>Year</th>\n",
       "      <th>Month</th>\n",
       "      <th>Day</th>\n",
       "      <th>Hour</th>\n",
       "      <th>Min</th>\n",
       "      <th>Sec</th>\n",
       "      <th>Lat</th>\n",
       "      <th>Long</th>\n",
       "      <th>Dist_East_West</th>\n",
       "      <th>Dist_North_South</th>\n",
       "    </tr>\n",
       "  </thead>\n",
       "  <tbody>\n",
       "    <tr>\n",
       "      <th>0</th>\n",
       "      <td>2017</td>\n",
       "      <td>8</td>\n",
       "      <td>27</td>\n",
       "      <td>17</td>\n",
       "      <td>56</td>\n",
       "      <td>9.7207</td>\n",
       "      <td>12.7452</td>\n",
       "      <td>-13.4960</td>\n",
       "      <td>271.5710</td>\n",
       "      <td>138.4600</td>\n",
       "    </tr>\n",
       "    <tr>\n",
       "      <th>1</th>\n",
       "      <td>2017</td>\n",
       "      <td>8</td>\n",
       "      <td>27</td>\n",
       "      <td>17</td>\n",
       "      <td>56</td>\n",
       "      <td>19.4011</td>\n",
       "      <td>12.0782</td>\n",
       "      <td>-16.2206</td>\n",
       "      <td>-23.9866</td>\n",
       "      <td>64.2929</td>\n",
       "    </tr>\n",
       "    <tr>\n",
       "      <th>2</th>\n",
       "      <td>2017</td>\n",
       "      <td>8</td>\n",
       "      <td>27</td>\n",
       "      <td>17</td>\n",
       "      <td>56</td>\n",
       "      <td>36.8910</td>\n",
       "      <td>9.6958</td>\n",
       "      <td>-8.5119</td>\n",
       "      <td>820.7290</td>\n",
       "      <td>-200.6180</td>\n",
       "    </tr>\n",
       "    <tr>\n",
       "      <th>3</th>\n",
       "      <td>2017</td>\n",
       "      <td>8</td>\n",
       "      <td>27</td>\n",
       "      <td>17</td>\n",
       "      <td>56</td>\n",
       "      <td>42.7955</td>\n",
       "      <td>10.8790</td>\n",
       "      <td>-10.6200</td>\n",
       "      <td>587.4700</td>\n",
       "      <td>-69.0520</td>\n",
       "    </tr>\n",
       "    <tr>\n",
       "      <th>4</th>\n",
       "      <td>2017</td>\n",
       "      <td>8</td>\n",
       "      <td>27</td>\n",
       "      <td>17</td>\n",
       "      <td>56</td>\n",
       "      <td>46.1723</td>\n",
       "      <td>9.9119</td>\n",
       "      <td>-12.6214</td>\n",
       "      <td>370.0740</td>\n",
       "      <td>-176.5890</td>\n",
       "    </tr>\n",
       "  </tbody>\n",
       "</table>\n",
       "</div>"
      ],
      "text/plain": [
       "   Year  Month  Day  Hour  Min      Sec      Lat     Long  Dist_East_West  \\\n",
       "0  2017      8   27    17   56   9.7207  12.7452 -13.4960        271.5710   \n",
       "1  2017      8   27    17   56  19.4011  12.0782 -16.2206        -23.9866   \n",
       "2  2017      8   27    17   56  36.8910   9.6958  -8.5119        820.7290   \n",
       "3  2017      8   27    17   56  42.7955  10.8790 -10.6200        587.4700   \n",
       "4  2017      8   27    17   56  46.1723   9.9119 -12.6214        370.0740   \n",
       "\n",
       "   Dist_North_South  \n",
       "0          138.4600  \n",
       "1           64.2929  \n",
       "2         -200.6180  \n",
       "3          -69.0520  \n",
       "4         -176.5890  "
      ]
     },
     "execution_count": 4,
     "metadata": {},
     "output_type": "execute_result"
    }
   ],
   "source": [
    "df.dropna(axis=0,how='any',subset=['Lat','Long'],inplace=True)\n",
    "df.head()"
   ]
  },
  {
   "cell_type": "code",
   "execution_count": 5,
   "metadata": {
    "scrolled": true
   },
   "outputs": [
    {
     "data": {
      "text/html": [
       "<div>\n",
       "<style scoped>\n",
       "    .dataframe tbody tr th:only-of-type {\n",
       "        vertical-align: middle;\n",
       "    }\n",
       "\n",
       "    .dataframe tbody tr th {\n",
       "        vertical-align: top;\n",
       "    }\n",
       "\n",
       "    .dataframe thead th {\n",
       "        text-align: right;\n",
       "    }\n",
       "</style>\n",
       "<table border=\"1\" class=\"dataframe\">\n",
       "  <thead>\n",
       "    <tr style=\"text-align: right;\">\n",
       "      <th></th>\n",
       "      <th>Lat</th>\n",
       "      <th>Long</th>\n",
       "    </tr>\n",
       "  </thead>\n",
       "  <tbody>\n",
       "    <tr>\n",
       "      <th>0</th>\n",
       "      <td>12.7452</td>\n",
       "      <td>-13.4960</td>\n",
       "    </tr>\n",
       "    <tr>\n",
       "      <th>1</th>\n",
       "      <td>12.0782</td>\n",
       "      <td>-16.2206</td>\n",
       "    </tr>\n",
       "    <tr>\n",
       "      <th>2</th>\n",
       "      <td>9.6958</td>\n",
       "      <td>-8.5119</td>\n",
       "    </tr>\n",
       "    <tr>\n",
       "      <th>3</th>\n",
       "      <td>10.8790</td>\n",
       "      <td>-10.6200</td>\n",
       "    </tr>\n",
       "    <tr>\n",
       "      <th>4</th>\n",
       "      <td>9.9119</td>\n",
       "      <td>-12.6214</td>\n",
       "    </tr>\n",
       "  </tbody>\n",
       "</table>\n",
       "</div>"
      ],
      "text/plain": [
       "       Lat     Long\n",
       "0  12.7452 -13.4960\n",
       "1  12.0782 -16.2206\n",
       "2   9.6958  -8.5119\n",
       "3  10.8790 -10.6200\n",
       "4   9.9119 -12.6214"
      ]
     },
     "execution_count": 5,
     "metadata": {},
     "output_type": "execute_result"
    }
   ],
   "source": [
    "coord_df = df.loc[:,['Lat','Long']]\n",
    "coord_df.head()"
   ]
  },
  {
   "cell_type": "code",
   "execution_count": 6,
   "metadata": {},
   "outputs": [
    {
     "data": {
      "text/plain": [
       "[<matplotlib.lines.Line2D at 0x1bb67d7c438>]"
      ]
     },
     "execution_count": 6,
     "metadata": {},
     "output_type": "execute_result"
    },
    {
     "data": {
      "image/png": "[encoded data removed]",
      "text/plain": [
       "<Figure size 432x288 with 1 Axes>"
      ]
     },
     "metadata": {
      "needs_background": "light"
     },
     "output_type": "display_data"
    }
   ],
   "source": [
    "#elbow graph for visual estimation of ideal cluster count\n",
    "clusters = range(1,16)\n",
    "\n",
    "kmeans = [KMeans(n_clusters=i) for i in clusters]\n",
    "\n",
    "y = df[['Lat']]\n",
    "x = df[['Long']]\n",
    "\n",
    "score = [kmeans[i].fit(y).score(y) for i in range(len(kmeans))]\n",
    "\n",
    "plt.plot(clusters, score)"
   ]
  },
  {
   "cell_type": "code",
   "execution_count": 7,
   "metadata": {},
   "outputs": [
    {
     "name": "stdout",
     "output_type": "stream",
     "text": [
      "Cluster count:  1 \tInertia:  77692757.4465874\n",
      "Cluster count:  2 \tInertia:  27765982.90336112\n",
      "Cluster count:  3 \tInertia:  14165582.870309884\n",
      "Cluster count:  4 \tInertia:  10426810.764150802\n",
      "Cluster count:  5 \tInertia:  7924113.980473335\n",
      "Cluster count:  6 \tInertia:  6104268.274497947\n",
      "Cluster count:  7 \tInertia:  5069257.377364511\n",
      "Cluster count:  8 \tInertia:  4059229.467525879\n",
      "Cluster count:  9 \tInertia:  3488536.9216434173\n",
      "Cluster count:  10 \tInertia:  2987840.334698636\n",
      "Cluster count:  11 \tInertia:  2627346.319314618\n",
      "Cluster count:  12 \tInertia:  2316302.51697425\n",
      "Cluster count:  13 \tInertia:  2106724.4814288705\n",
      "Cluster count:  14 \tInertia:  1912052.360191738\n",
      "Cluster count:  15 \tInertia:  1745309.4484392637\n"
     ]
    }
   ],
   "source": [
    "cluster_df = coord_df\n",
    "for n_clusters in range(1,16):\n",
    "    kmeans = KMeans(n_clusters=n_clusters, init='k-means++')\n",
    "    kmeans.fit(cluster_df)\n",
    "    inertia = kmeans.inertia_\n",
    "    print(\"Cluster count: \", n_clusters, \"\\tInertia: \", inertia)"
   ]
  },
  {
   "cell_type": "code",
   "execution_count": 8,
   "metadata": {},
   "outputs": [
    {
     "data": {
      "image/png": "[encoded data removed]",
      "text/plain": [
       "<Figure size 432x288 with 2 Axes>"
      ]
     },
     "metadata": {
      "needs_background": "light"
     },
     "output_type": "display_data"
    }
   ],
   "source": [
    "cluster_df.plot.scatter(x='Lat',y='Long', c='pink', s=50, cmap='spring')\n",
    "plt.show()"
   ]
  },
  {
   "cell_type": "code",
   "execution_count": 9,
   "metadata": {},
   "outputs": [
    {
     "data": {
      "image/png": "[encoded data removed]",
      "text/plain": [
       "<Figure size 432x288 with 2 Axes>"
      ]
     },
     "metadata": {
      "needs_background": "light"
     },
     "output_type": "display_data"
    }
   ],
   "source": [
    "#kmeans using the set cluster count\n",
    "kmeans = KMeans(n_clusters=4, init='k-means++')\n",
    "cluster_df = coord_df\n",
    "kmeans.fit(cluster_df)\n",
    "cluster_df['cluster'] = kmeans.fit_predict(cluster_df)\n",
    "inertia = kmeans.inertia_\n",
    "labels = kmeans.predict(cluster_df[cluster_df.columns[:2]])\n",
    "centers = kmeans.cluster_centers_\n",
    "\n",
    "cluster_df.plot.scatter(x='Lat',y='Long', c=labels, s=50, cmap='spring')\n",
    "plt.scatter(centers[:, 0], centers[:, 1], c='black', s= 200, alpha=.5)\n",
    "\n",
    "plt.show()"
   ]
  },
  {
   "cell_type": "code",
   "execution_count": 10,
   "metadata": {},
   "outputs": [
    {
     "data": {
      "image/png": "[encoded data removed]",
      "text/plain": [
       "<Figure size 432x288 with 2 Axes>"
      ]
     },
     "metadata": {
      "needs_background": "light"
     },
     "output_type": "display_data"
    }
   ],
   "source": [
    "#kmeans using the set cluster count\n",
    "kmeans = KMeans(n_clusters=14, init='k-means++')\n",
    "cluster_df = coord_df\n",
    "kmeans.fit(cluster_df)\n",
    "cluster_df['cluster'] = kmeans.fit_predict(cluster_df)\n",
    "inertia = kmeans.inertia_\n",
    "labels = kmeans.predict(cluster_df[cluster_df.columns[:]])\n",
    "centers = kmeans.cluster_centers_\n",
    "\n",
    "cluster_df.plot.scatter(x='Lat',y='Long', c=labels, s=50, cmap='spring')\n",
    "plt.scatter(centers[:, 0], centers[:, 1], c='black', s= 200, alpha=.5)\n",
    "\n",
    "plt.show()"
   ]
  },
  {
   "cell_type": "code",
   "execution_count": null,
   "metadata": {},
   "outputs": [],
   "source": []
  },
  {
   "cell_type": "code",
   "execution_count": null,
   "metadata": {},
   "outputs": [],
   "source": []
  }
 ],
 "metadata": {
  "kernelspec": {
   "display_name": "Python 3",
   "language": "python",
   "name": "python3"
  },
  "language_info": {
   "codemirror_mode": {
    "name": "ipython",
    "version": 3
   },
   "file_extension": ".py",
   "mimetype": "text/x-python",
   "name": "python",
   "nbconvert_exporter": "python",
   "pygments_lexer": "ipython3",
   "version": "3.8.3"
  }
 },
 "nbformat": 4,
 "nbformat_minor": 2
}
