{
 "cells": [
  {
   "cell_type": "code",
   "execution_count": 1,
   "metadata": {},
   "outputs": [
    {
     "data": {
      "text/html": [
       "<style>.container { width:100% !important; }</style>"
      ],
      "text/plain": [
       "<IPython.core.display.HTML object>"
      ]
     },
     "metadata": {},
     "output_type": "display_data"
    }
   ],
   "source": [
    "from IPython.core.display import display, HTML\n",
    "display(HTML(\"<style>.container { width:100% !important; }</style>\")) # makes the notebook fill the whole window\n",
    "\n",
    "import numpy as np\n",
    "import pandas as pd\n",
    "import matplotlib as mpl\n",
    "from matplotlib import pyplot as plt\n",
    "\n",
    "from sklearn.cluster import KMeans\n",
    "from sklearn.metrics import silhouette_score\n",
    "import seaborn as sns; sns.set()\n",
    "import csv\n",
    "\n",
    "from PIL import Image, ImageDraw\n",
    "import os\n",
    "import shutil\n",
    "\n",
    "from mpl_toolkits.basemap import Basemap\n",
    "\n",
    "#there is currently a bug in panda's scatter_matrix that produces a warning that has no affect on what I'm doin :)\n",
    "import warnings\n",
    "warnings.filterwarnings(\"ignore\")"
   ]
  },
  {
   "cell_type": "code",
   "execution_count": 2,
   "metadata": {
    "scrolled": true
   },
   "outputs": [
    {
     "data": {
      "text/html": [
       "<div>\n",
       "<style scoped>\n",
       "    .dataframe tbody tr th:only-of-type {\n",
       "        vertical-align: middle;\n",
       "    }\n",
       "\n",
       "    .dataframe tbody tr th {\n",
       "        vertical-align: top;\n",
       "    }\n",
       "\n",
       "    .dataframe thead th {\n",
       "        text-align: right;\n",
       "    }\n",
       "</style>\n",
       "<table border=\"1\" class=\"dataframe\">\n",
       "  <thead>\n",
       "    <tr style=\"text-align: right;\">\n",
       "      <th></th>\n",
       "      <th>Year</th>\n",
       "      <th>Month</th>\n",
       "      <th>Day</th>\n",
       "      <th>Hour</th>\n",
       "      <th>Min</th>\n",
       "      <th>Sec</th>\n",
       "      <th>Lat</th>\n",
       "      <th>Long</th>\n",
       "      <th>Dist_East_West</th>\n",
       "      <th>Dist_North_South</th>\n",
       "    </tr>\n",
       "  </thead>\n",
       "  <tbody>\n",
       "    <tr>\n",
       "      <td>0</td>\n",
       "      <td>2017</td>\n",
       "      <td>8</td>\n",
       "      <td>27</td>\n",
       "      <td>17</td>\n",
       "      <td>56</td>\n",
       "      <td>9.7207</td>\n",
       "      <td>12.7452</td>\n",
       "      <td>-13.4960</td>\n",
       "      <td>271.5710</td>\n",
       "      <td>138.4600</td>\n",
       "    </tr>\n",
       "    <tr>\n",
       "      <td>1</td>\n",
       "      <td>2017</td>\n",
       "      <td>8</td>\n",
       "      <td>27</td>\n",
       "      <td>17</td>\n",
       "      <td>56</td>\n",
       "      <td>19.4011</td>\n",
       "      <td>12.0782</td>\n",
       "      <td>-16.2206</td>\n",
       "      <td>-23.9866</td>\n",
       "      <td>64.2929</td>\n",
       "    </tr>\n",
       "    <tr>\n",
       "      <td>2</td>\n",
       "      <td>2017</td>\n",
       "      <td>8</td>\n",
       "      <td>27</td>\n",
       "      <td>17</td>\n",
       "      <td>56</td>\n",
       "      <td>36.8910</td>\n",
       "      <td>9.6958</td>\n",
       "      <td>-8.5119</td>\n",
       "      <td>820.7290</td>\n",
       "      <td>-200.6180</td>\n",
       "    </tr>\n",
       "    <tr>\n",
       "      <td>3</td>\n",
       "      <td>2017</td>\n",
       "      <td>8</td>\n",
       "      <td>27</td>\n",
       "      <td>17</td>\n",
       "      <td>56</td>\n",
       "      <td>42.7955</td>\n",
       "      <td>10.8790</td>\n",
       "      <td>-10.6200</td>\n",
       "      <td>587.4700</td>\n",
       "      <td>-69.0520</td>\n",
       "    </tr>\n",
       "    <tr>\n",
       "      <td>4</td>\n",
       "      <td>2017</td>\n",
       "      <td>8</td>\n",
       "      <td>27</td>\n",
       "      <td>17</td>\n",
       "      <td>56</td>\n",
       "      <td>46.1723</td>\n",
       "      <td>9.9119</td>\n",
       "      <td>-12.6214</td>\n",
       "      <td>370.0740</td>\n",
       "      <td>-176.5890</td>\n",
       "    </tr>\n",
       "  </tbody>\n",
       "</table>\n",
       "</div>"
      ],
      "text/plain": [
       "   Year  Month  Day  Hour  Min      Sec      Lat     Long  Dist_East_West  \\\n",
       "0  2017      8   27    17   56   9.7207  12.7452 -13.4960        271.5710   \n",
       "1  2017      8   27    17   56  19.4011  12.0782 -16.2206        -23.9866   \n",
       "2  2017      8   27    17   56  36.8910   9.6958  -8.5119        820.7290   \n",
       "3  2017      8   27    17   56  42.7955  10.8790 -10.6200        587.4700   \n",
       "4  2017      8   27    17   56  46.1723   9.9119 -12.6214        370.0740   \n",
       "\n",
       "   Dist_North_South  \n",
       "0          138.4600  \n",
       "1           64.2929  \n",
       "2         -200.6180  \n",
       "3          -69.0520  \n",
       "4         -176.5890  "
      ]
     },
     "metadata": {},
     "output_type": "display_data"
    },
    {
     "data": {
      "text/html": [
       "<div>\n",
       "<style scoped>\n",
       "    .dataframe tbody tr th:only-of-type {\n",
       "        vertical-align: middle;\n",
       "    }\n",
       "\n",
       "    .dataframe tbody tr th {\n",
       "        vertical-align: top;\n",
       "    }\n",
       "\n",
       "    .dataframe thead th {\n",
       "        text-align: right;\n",
       "    }\n",
       "</style>\n",
       "<table border=\"1\" class=\"dataframe\">\n",
       "  <thead>\n",
       "    <tr style=\"text-align: right;\">\n",
       "      <th></th>\n",
       "      <th>Year</th>\n",
       "      <th>Month</th>\n",
       "      <th>Day</th>\n",
       "      <th>Hour</th>\n",
       "      <th>Lat</th>\n",
       "      <th>Long</th>\n",
       "      <th>Min_Pressure</th>\n",
       "      <th>Max_Winds</th>\n",
       "      <th>Unused</th>\n",
       "    </tr>\n",
       "  </thead>\n",
       "  <tbody>\n",
       "    <tr>\n",
       "      <td>0</td>\n",
       "      <td>2017</td>\n",
       "      <td>8</td>\n",
       "      <td>27</td>\n",
       "      <td>18</td>\n",
       "      <td>11.5</td>\n",
       "      <td>-16.0</td>\n",
       "      <td>0</td>\n",
       "      <td>25</td>\n",
       "      <td>0</td>\n",
       "    </tr>\n",
       "    <tr>\n",
       "      <td>1</td>\n",
       "      <td>2017</td>\n",
       "      <td>8</td>\n",
       "      <td>28</td>\n",
       "      <td>0</td>\n",
       "      <td>11.5</td>\n",
       "      <td>-17.8</td>\n",
       "      <td>0</td>\n",
       "      <td>25</td>\n",
       "      <td>0</td>\n",
       "    </tr>\n",
       "    <tr>\n",
       "      <td>2</td>\n",
       "      <td>2017</td>\n",
       "      <td>8</td>\n",
       "      <td>28</td>\n",
       "      <td>6</td>\n",
       "      <td>11.6</td>\n",
       "      <td>-19.3</td>\n",
       "      <td>1009</td>\n",
       "      <td>25</td>\n",
       "      <td>0</td>\n",
       "    </tr>\n",
       "    <tr>\n",
       "      <td>3</td>\n",
       "      <td>2017</td>\n",
       "      <td>8</td>\n",
       "      <td>28</td>\n",
       "      <td>12</td>\n",
       "      <td>11.9</td>\n",
       "      <td>-20.5</td>\n",
       "      <td>1009</td>\n",
       "      <td>25</td>\n",
       "      <td>0</td>\n",
       "    </tr>\n",
       "    <tr>\n",
       "      <td>4</td>\n",
       "      <td>2017</td>\n",
       "      <td>8</td>\n",
       "      <td>28</td>\n",
       "      <td>18</td>\n",
       "      <td>12.3</td>\n",
       "      <td>-21.0</td>\n",
       "      <td>1008</td>\n",
       "      <td>25</td>\n",
       "      <td>0</td>\n",
       "    </tr>\n",
       "  </tbody>\n",
       "</table>\n",
       "</div>"
      ],
      "text/plain": [
       "   Year  Month  Day  Hour   Lat  Long  Min_Pressure  Max_Winds  Unused\n",
       "0  2017      8   27    18  11.5 -16.0             0         25       0\n",
       "1  2017      8   28     0  11.5 -17.8             0         25       0\n",
       "2  2017      8   28     6  11.6 -19.3          1009         25       0\n",
       "3  2017      8   28    12  11.9 -20.5          1009         25       0\n",
       "4  2017      8   28    18  12.3 -21.0          1008         25       0"
      ]
     },
     "metadata": {},
     "output_type": "display_data"
    }
   ],
   "source": [
    "#load in the data\n",
    "df = pd.read_csv('./Irma Storm centered/ATL_17_11_Irma_WWLLN_Locations.txt',header=None,names=[\"Year\",\"Month\",\"Day\",\"Hour\",\"Min\",\"Sec\",\"Lat\",\"Long\",\"Dist_East_West\",\"Dist_North_South\"],low_memory=False, delim_whitespace=True)\n",
    "df_center = pd.read_csv('./Irma Storm centered/ATL_17_11_Irma_Reduced_Trackfile.txt',header=None,names=[\"Year\",\"Month\",\"Day\",\"Hour\",\"Lat\",\"Long\",\"Min_Pressure\",\"Max_Winds\",\"Unused\"],low_memory=False,sep='\\t')"
   ]
  },
  {
   "cell_type": "code",
   "execution_count": null,
   "metadata": {},
   "outputs": [],
   "source": [
    "for w in range(0,60,30):\n",
    "    minute = w\n",
    "    #The above gets the month, day, hour, minute (before 30 minutes or after 30 minutes)\n",
    "    #Make big map\n",
    "    fig = plt.figure(figsize=(30,15))\n",
    "    m = Basemap(llcrnrlon=minLong_-buffer, llcrnrlat=minLat_-buffer,urcrnrlon=maxLong_+buffer,urcrnrlat=maxLat_+buffer,lon_0=0,lat_0=0)\n",
    "    m.drawmapboundary(fill_color='#A6CAE0', linewidth=0)\n",
    "    m.fillcontinents(color='grey', alpha=0.7, lake_color='grey')\n",
    "    m.drawcoastlines(linewidth=0.1, color=\"white\")\n",
    "    #Plot ticks for lat/long\n",
    "    plt.xticks(np.arange(minLong_-buffer,maxLong_+buffer,step=5))\n",
    "    plt.yticks(np.arange(minLat_-buffer,maxLat_+buffer,step=5))\n",
    "    #Title the map 2017:month:day::hour:minute\n",
    "    plt.title(\"2017:\" + '{:2d}'.format(int(month)) + \":\" + '{:2d}'.format(int(day)) + \"::\" + '{:2d}'.format(int(hour)) + \":\" + '{:2d}'.format(int(minute)))\n",
    "    #Plot the center of Irma\n",
    "    m.plot(df[(df['Month'] == month) & (df['Day'] == day) & (df['Hour'] == hour)]['Long'], df[(df['Month'] == month) & (df['Day'] == day) & (df['Hour'] == hour)]['Lat'], linestyle='none', marker=\"o\", markersize=30, alpha=1, c=\"red\", markeredgecolor=\"black\", markeredgewidth=1)\n",
    "    #Plot all of the lightning that appears on that month/day/hour/minute section\n",
    "    m.plot(ln[(ln['Month'] == month) & (ln['Day'] == day) & (ln['Hour'] == hour) & (ln['Min'] >= minute) & (ln['Min'] <= minute + 30)]['Long'],ln[(ln['Month'] == month) & (ln['Day'] == day) & (ln['Hour'] == hour) & (ln['Min'] >= minute) & (ln['Min'] <= minute + 30)]['Lat'], linestyle='none', marker=\"X\", markersize=8, alpha=.7, c=\"yellow\", markeredgecolor=\"black\", markeredgewidth=1)\n",
    "    #Save and close the figure\n",
    "    plt.savefig(\"./data/Irma/\" + \"2017_\" + str(int(month)) + \"_\" + str(int(day)) + \"_\" + str(int(hour)) + \"_\" + str(int(minute)),bbox_inches='tight')\n",
    "    plt.close(fig)"
   ]
  },
  {
   "cell_type": "code",
   "execution_count": null,
   "metadata": {
    "scrolled": false
   },
   "outputs": [],
   "source": [
    "df.dropna(axis=0,how='any',subset=['Lat','Long'],inplace=True)\n",
    "df.head()"
   ]
  },
  {
   "cell_type": "code",
   "execution_count": null,
   "metadata": {
    "scrolled": true
   },
   "outputs": [],
   "source": [
    "coord_df = df.loc[:,['Lat','Long']]\n",
    "coord_df.head()"
   ]
  },
  {
   "cell_type": "code",
   "execution_count": null,
   "metadata": {},
   "outputs": [],
   "source": [
    "#elbow graph for visual estimation of ideal cluster count\n",
    "clusters = range(1,16)\n",
    "\n",
    "kmeans = [KMeans(n_clusters=i) for i in clusters]\n",
    "\n",
    "y = df[['Lat']]\n",
    "x = df[['Long']]\n",
    "\n",
    "score = [kmeans[i].fit(y).score(y) for i in range(len(kmeans))]\n",
    "\n",
    "plt.plot(clusters, score)\n",
    "\n",
    "plt.show()"
   ]
  },
  {
   "cell_type": "code",
   "execution_count": null,
   "metadata": {},
   "outputs": [],
   "source": [
    "cluster_df = coord_df\n",
    "for n_clusters in range(1,16):\n",
    "    kmeans = KMeans(n_clusters=n_clusters, init='k-means++')\n",
    "    kmeans.fit(cluster_df)\n",
    "    inertia = kmeans.inertia_\n",
    "    print(\"Cluster count: \", n_clusters, \"\\tInertia: \", inertia)"
   ]
  },
  {
   "cell_type": "code",
   "execution_count": null,
   "metadata": {},
   "outputs": [],
   "source": [
    "cluster_df.plot.scatter(x='Lat',y='Long', c='pink', s=50, cmap='spring')\n",
    "plt.show()"
   ]
  },
  {
   "cell_type": "code",
   "execution_count": null,
   "metadata": {
    "scrolled": true
   },
   "outputs": [],
   "source": [
    "#kmeans using the set cluster count\n",
    "kmeans = KMeans(n_clusters=4, init='k-means++')\n",
    "cluster_df = coord_df\n",
    "kmeans.fit(cluster_df)\n",
    "cluster_df['cluster'] = kmeans.fit_predict(cluster_df)\n",
    "inertia = kmeans.inertia_\n",
    "labels = kmeans.predict(cluster_df[cluster_df.columns[:2]])\n",
    "centers = kmeans.cluster_centers_\n",
    "\n",
    "cluster_df.plot.scatter(x='Lat',y='Long', c=labels, s=50, cmap='spring', figsize=(20,20))\n",
    "plt.scatter(centers[:, 0], centers[:, 1], c='black', s= 200, alpha=.5)\n",
    "\n",
    "plt.show()"
   ]
  },
  {
   "cell_type": "code",
   "execution_count": null,
   "metadata": {
    "scrolled": true
   },
   "outputs": [],
   "source": [
    "#kmeans using the set cluster count\n",
    "kmeans = KMeans(n_clusters=14, init='k-means++')\n",
    "cluster_df = coord_df\n",
    "kmeans.fit(cluster_df)\n",
    "cluster_df['cluster'] = kmeans.fit_predict(cluster_df)\n",
    "inertia = kmeans.inertia_\n",
    "labels = kmeans.predict(cluster_df[cluster_df.columns[:]])\n",
    "centers = kmeans.cluster_centers_\n",
    "\n",
    "cluster_df.plot.scatter(x='Lat',y='Long', c=labels, s=50, cmap='spring', figsize=(40,40))\n",
    "plt.scatter(centers[:, 0], centers[:, 1], c='black', s= 200, alpha=.5)\n",
    "\n",
    "plt.show()"
   ]
  },
  {
   "cell_type": "code",
   "execution_count": null,
   "metadata": {},
   "outputs": [],
   "source": [
    "centers_df = pd.DataFrame(data=centers, columns=[\"Lat\", \"Long\", \"delete\"])\n",
    "centers_df = centers_df.iloc[:,:2]\n",
    "ln = pd.read_csv('./Irma Storm centered/ATL_17_11_Irma_WWLLN_Locations.txt',header=None,names=[\"Year\",\"Month\",\"Day\",\"Hour\",\"Min\",\"Sec\",\"Lat\",\"Long\",\"Dist_East_West\",\"Dist_North_South\"],low_memory=False,sep=' ')\n",
    "minLong_, minLat_, maxLong_, maxLat_ = ln['Long'].min(), ln['Lat'].min(), ln['Long'].max(), ln['Lat'].max()\n",
    "buffer = 10"
   ]
  },
  {
   "cell_type": "code",
   "execution_count": null,
   "metadata": {
    "scrolled": false
   },
   "outputs": [],
   "source": [
    "plt.figure(figsize=(20,20))\n",
    "m = Basemap(llcrnrlon=minLong_-buffer, llcrnrlat=minLat_-buffer,urcrnrlon=maxLong_+buffer,urcrnrlat=maxLat_+buffer,lon_0=0,lat_0=0)\n",
    "m.drawmapboundary(fill_color='#A6CAE0', linewidth=0)\n",
    "m.fillcontinents(color='grey', alpha=0.7, lake_color='grey')\n",
    "m.drawcoastlines(linewidth=0.1, color=\"white\")\n",
    "\n",
    "# Plot the lightning data\n",
    "m.plot(centers_df['Long'], centers_df['Lat'], linestyle='none', marker=\"o\", markersize=75, alpha=0.7, c=\"orange\", markeredgecolor=\"black\", markeredgewidth=1)\n",
    "plt.title(\"0 minutes\")\n",
    "plt.savefig(\"./data/test\",bbox_inches='tight')"
   ]
  },
  {
   "cell_type": "code",
   "execution_count": null,
   "metadata": {},
   "outputs": [],
   "source": []
  }
 ],
 "metadata": {
  "kernelspec": {
   "display_name": "Python 3",
   "language": "python",
   "name": "python3"
  },
  "language_info": {
   "codemirror_mode": {
    "name": "ipython",
    "version": 3
   },
   "file_extension": ".py",
   "mimetype": "text/x-python",
   "name": "python",
   "nbconvert_exporter": "python",
   "pygments_lexer": "ipython3",
   "version": "3.7.4"
  }
 },
 "nbformat": 4,
 "nbformat_minor": 2
}
