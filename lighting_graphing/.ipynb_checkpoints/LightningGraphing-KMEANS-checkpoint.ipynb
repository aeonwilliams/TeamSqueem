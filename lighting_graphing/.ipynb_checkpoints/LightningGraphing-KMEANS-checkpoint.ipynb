{
 "cells": [
  {
   "cell_type": "markdown",
   "metadata": {},
   "source": [
    "<img src=\"../squeemos_blk.png\" width=200 height=200 />"
   ]
  },
  {
   "cell_type": "code",
   "execution_count": 1,
   "metadata": {},
   "outputs": [
    {
     "data": {
      "text/html": [
       "<style>.container { width:100% !important; }</style>"
      ],
      "text/plain": [
       "<IPython.core.display.HTML object>"
      ]
     },
     "metadata": {},
     "output_type": "display_data"
    }
   ],
   "source": [
    "from IPython.core.display import display, HTML\n",
    "display(HTML(\"<style>.container { width:100% !important; }</style>\")) # makes the notebook fill the whole window\n",
    "\n",
    "import numpy as np\n",
    "import pandas as pd\n",
    "import matplotlib as mpl\n",
    "from matplotlib import pyplot as plt\n",
    "\n",
    "from sklearn.cluster import KMeans\n",
    "from sklearn.metrics import silhouette_score\n",
    "import seaborn as sns; sns.set()\n",
    "import csv\n",
    "\n",
    "from PIL import Image, ImageDraw\n",
    "import os\n",
    "import shutil\n",
    "\n",
    "from mpl_toolkits.basemap import Basemap\n",
    "\n",
    "from BetterMap import CreateMapBackground\n",
    "\n",
    "import functools\n",
    "import operator\n",
    "\n",
    "#there is currently a bug in panda's scatter_matrix that produces a warning that has no affect on what I'm doin :)\n",
    "import warnings\n",
    "warnings.filterwarnings(\"ignore\")"
   ]
  },
  {
   "cell_type": "markdown",
   "metadata": {},
   "source": [
    "## Clustering functions"
   ]
  },
  {
   "cell_type": "code",
   "execution_count": 2,
   "metadata": {},
   "outputs": [],
   "source": [
    "# Return kmeans cluster centers of the given dataframe\n",
    "def cluster_df(df):\n",
    "    if df.shape[0] > 0:\n",
    "        num_clusters = 5\n",
    "        if df.shape[0] < num_clusters:\n",
    "            num_clusters = df.shape[0]\n",
    "        kmeans = KMeans(n_clusters=num_clusters, init='k-means++')\n",
    "        kmeans.fit(df[['Lat', 'Long']])\n",
    "        df['cluster_label'] = kmeans.fit_predict(df[['Lat', 'Long']])\n",
    "        centers = kmeans.cluster_centers_\n",
    "        return centers\n",
    "    result = np.empty((2,1))\n",
    "    result[:] = np.NaN\n",
    "    return result\n",
    "\n",
    "#These 3 functions finds clustered centers of specific parts of the storm\n",
    "def create_inner_df(df):\n",
    "    centers = []\n",
    "    df_inner_temp = df.copy()\n",
    "    df_inner_temp = df_inner_temp[df_inner_temp['distance'] <= 100]\n",
    "    end = df_inner_temp['cluster'].max()\n",
    "    for current_chunk in range(1,end):\n",
    "        df_inner = df.copy()\n",
    "        df_inner = df_inner[(df_inner['distance'] <= 100) & (df_inner['cluster'] == current_chunk)]\n",
    "        centers.append(cluster_df(df_inner))\n",
    "    \n",
    "    #flatten the list\n",
    "    centers = functools.reduce(operator.iconcat, centers, [])\n",
    "    #drop nan\n",
    "    centers = [x for x in centers if str(x) != 'nan']\n",
    "    return centers\n",
    "\n",
    "def create_rainband_df(df):\n",
    "    centers = []\n",
    "    df_rainband_temp = df.copy()\n",
    "    df_rainband_temp = df_rainband_temp[(df_rainband_temp['distance'] >= 200) & (df_rainband_temp['distance'] <= 400)]\n",
    "    end = df_rainband_temp['cluster'].max()\n",
    "    for current_chunk in range(1,end):\n",
    "        df_rainband = df.copy()\n",
    "        df_rainband = df_rainband[(df_rainband['distance'] >= 200) & (df_rainband['distance'] <= 400)]\n",
    "        centers.append(cluster_df(df_rainband))\n",
    "    \n",
    "    #flatten the list\n",
    "    centers = functools.reduce(operator.iconcat, centers, [])\n",
    "    #drop nan\n",
    "    centers = [x for x in centers if str(x) != 'nan']\n",
    "    return centers\n",
    "\n",
    "def create_outer_df(df):\n",
    "    centers = []\n",
    "    df_outer_temp = df.copy()\n",
    "    df_outer_temp = df_outer_temp[(df_outer_temp['distance'] >= 400) & (df_outer_temp['distance'] <= 600)]\n",
    "    end = df_outer_temp['cluster'].max()\n",
    "    for current_chunk in range(1,end):\n",
    "        df_outer = df.copy()\n",
    "        df_outer = df_outer[(df_outer['distance'] >= 400) & (df_outer['distance'] <= 600)]\n",
    "        centers.append(cluster_df(df_outer))\n",
    "    \n",
    "    #flatten the list\n",
    "    centers = functools.reduce(operator.iconcat, centers, [])\n",
    "    #drop nan\n",
    "    centers = [x for x in centers if str(x) != 'nan']\n",
    "    return centers"
   ]
  },
  {
   "cell_type": "markdown",
   "metadata": {},
   "source": [
    "## Data loading and verification"
   ]
  },
  {
   "cell_type": "code",
   "execution_count": 3,
   "metadata": {
    "scrolled": true
   },
   "outputs": [],
   "source": [
    "#load in the data\n",
    "df = pd.read_csv('./Irma Storm centered/ATL_17_11_Irma_WWLLN_Locations.txt',header=None,names=[\"Year\",\"Month\",\"Day\",\"Hour\",\"Min\",\"Sec\",\"Lat\",\"Long\",\"Dist_East_West\",\"Dist_North_South\"],low_memory=False, delim_whitespace=True)\n",
    "df.dropna(axis=0,how='any',subset=['Lat','Long'],inplace=True)\n",
    "\n",
    "df_center = pd.read_csv('./Irma Storm centered/ATL_17_11_Irma_Reduced_Trackfile.txt',header=None,names=[\"Year\",\"Month\",\"Day\",\"Hour\",\"Lat\",\"Long\",\"Min_Pressure\",\"Max_Winds\",\"Unused\"],low_memory=False,sep='\\t')\n",
    "df_center.dropna(axis=0,how='any',subset=['Lat','Long'],inplace=True)"
   ]
  },
  {
   "cell_type": "code",
   "execution_count": 4,
   "metadata": {},
   "outputs": [
    {
     "name": "stdout",
     "output_type": "stream",
     "text": [
      "<class 'pandas.core.frame.DataFrame'>\n",
      "Int64Index: 226789 entries, 0 to 226788\n",
      "Data columns (total 10 columns):\n",
      " #   Column            Non-Null Count   Dtype  \n",
      "---  ------            --------------   -----  \n",
      " 0   Year              226789 non-null  int64  \n",
      " 1   Month             226789 non-null  int64  \n",
      " 2   Day               226789 non-null  int64  \n",
      " 3   Hour              226789 non-null  int64  \n",
      " 4   Min               226789 non-null  int64  \n",
      " 5   Sec               226789 non-null  float64\n",
      " 6   Lat               226789 non-null  float64\n",
      " 7   Long              226789 non-null  float64\n",
      " 8   Dist_East_West    226789 non-null  float64\n",
      " 9   Dist_North_South  226789 non-null  float64\n",
      "dtypes: float64(5), int64(5)\n",
      "memory usage: 19.0 MB\n"
     ]
    },
    {
     "data": {
      "text/plain": [
       "None"
      ]
     },
     "metadata": {},
     "output_type": "display_data"
    },
    {
     "name": "stdout",
     "output_type": "stream",
     "text": [
      "<class 'pandas.core.frame.DataFrame'>\n",
      "Int64Index: 61 entries, 0 to 60\n",
      "Data columns (total 9 columns):\n",
      " #   Column        Non-Null Count  Dtype  \n",
      "---  ------        --------------  -----  \n",
      " 0   Year          61 non-null     int64  \n",
      " 1   Month         61 non-null     int64  \n",
      " 2   Day           61 non-null     int64  \n",
      " 3   Hour          61 non-null     int64  \n",
      " 4   Lat           61 non-null     float64\n",
      " 5   Long          61 non-null     float64\n",
      " 6   Min_Pressure  61 non-null     int64  \n",
      " 7   Max_Winds     61 non-null     int64  \n",
      " 8   Unused        61 non-null     int64  \n",
      "dtypes: float64(2), int64(7)\n",
      "memory usage: 4.8 KB\n"
     ]
    },
    {
     "data": {
      "text/plain": [
       "None"
      ]
     },
     "metadata": {},
     "output_type": "display_data"
    }
   ],
   "source": [
    "display(df.info())\n",
    "display(df_center.info())"
   ]
  },
  {
   "cell_type": "code",
   "execution_count": 6,
   "metadata": {},
   "outputs": [
    {
     "name": "stdout",
     "output_type": "stream",
     "text": [
      "<class 'pandas.core.frame.DataFrame'>\n",
      "RangeIndex: 230720 entries, 0 to 230719\n",
      "Data columns (total 12 columns):\n",
      " #   Column            Non-Null Count   Dtype  \n",
      "---  ------            --------------   -----  \n",
      " 0   cluster           230720 non-null  int64  \n",
      " 1   Year              230720 non-null  float64\n",
      " 2   Month             230720 non-null  float64\n",
      " 3   Day               230720 non-null  float64\n",
      " 4   Hour              230720 non-null  float64\n",
      " 5   Min               230720 non-null  float64\n",
      " 6   Sec               230720 non-null  float64\n",
      " 7   Lat               230720 non-null  float64\n",
      " 8   Long              230720 non-null  float64\n",
      " 9   Dist_East_West    230720 non-null  float64\n",
      " 10  Dist_North_South  230720 non-null  float64\n",
      " 11  distance          230720 non-null  float64\n",
      "dtypes: float64(11), int64(1)\n",
      "memory usage: 21.1 MB\n"
     ]
    }
   ],
   "source": [
    "#make a dataframe that denotes clusters based on a time interval - a new cluster every x amount of minutes\n",
    "minutes_between = 30\n",
    "\n",
    "def add_clusters_to_df(df, minutes_between):\n",
    "    cluster = 0\n",
    "    df_time = pd.DataFrame()\n",
    "    df_time['cluster'] = 0\n",
    "    for x in range(len(df['Month'].unique())):\n",
    "        month = df['Month'].unique()[x]\n",
    "        for y in range(len(df[df['Month'] == df['Month'].unique()[x]]['Day'].unique())):\n",
    "            day = df[df['Month'] == df['Month'].unique()[x]]['Day'].unique()[y]\n",
    "            for z in range(len(df[df['Day'] == df[df['Month'] == df['Month'].unique()[x]]['Day'].unique()[y]]['Hour'].unique())):\n",
    "                hour = df[df['Day'] == df[df['Month'] == df['Month'].unique()[x]]['Day'].unique()[y]]['Hour'].unique()[z]\n",
    "                for w in range(0,60,minutes_between):\n",
    "                    minute = w\n",
    "                    temp = df[(df['Month'] == month) & (df['Day'] == day) & (df['Hour'] == hour) & (df['Min'] >= minute) & (df['Min'] <= minute + minutes_between)]\n",
    "                    temp['cluster'] = cluster\n",
    "                    df_time = df_time.append(temp, ignore_index=True)\n",
    "                    cluster+=1\n",
    "    return df_time\n",
    "df_time = add_clusters_to_df(df, minutes_between)\n",
    "df_time['distance'] = np.sqrt((df_time['Dist_East_West'] * df_time['Dist_East_West']) + \n",
    "                                (df_time['Dist_North_South'] * df_time['Dist_North_South']))\n",
    "df_time.info()"
   ]
  },
  {
   "cell_type": "markdown",
   "metadata": {},
   "source": [
    "## Proof of concept/test with specific time"
   ]
  },
  {
   "cell_type": "code",
   "execution_count": null,
   "metadata": {},
   "outputs": [],
   "source": [
    "#apply date restriction\n",
    "df_time = df_time[(df_time['Year'] == 2017) &\n",
    "                   (df_time['Month'] == 8) &\n",
    "                   (df_time['Day'] == 27) &\n",
    "                   (df_time['Hour'] == 23) &\n",
    "                   (df_time['Min'] == 30)]\n",
    "df_time.info()"
   ]
  },
  {
   "cell_type": "code",
   "execution_count": null,
   "metadata": {},
   "outputs": [],
   "source": [
    "inner_clusters = create_inner_df(df_time)\n",
    "rainband_clusters = create_rainband_df(df_time)\n",
    "outer_clusters = create_outer_df(df_time)"
   ]
  },
  {
   "cell_type": "code",
   "execution_count": null,
   "metadata": {
    "scrolled": false
   },
   "outputs": [],
   "source": [
    "inner_centers = pd.DataFrame(data=inner_clusters, columns=[\"Lat\", \"Long\"])\n",
    "rainband_centers = pd.DataFrame(data=rainband_clusters, columns=[\"Lat\", \"Long\"])\n",
    "outer_centers = pd.DataFrame(data=outer_clusters, columns=[\"Lat\", \"Long\"])\n",
    "\n",
    "ln = pd.read_csv('./Irma Storm centered/ATL_17_11_Irma_WWLLN_Locations.txt',header=None,names=[\"Year\",\"Month\",\"Day\",\"Hour\",\"Min\",\"Sec\",\"Lat\",\"Long\",\"Dist_East_West\",\"Dist_North_South\"],low_memory=False,sep=' ')\n",
    "minLong_, minLat_, maxLong_, maxLat_ = ln['Long'].min(), ln['Lat'].min(), ln['Long'].max(), ln['Lat'].max()\n",
    "buffer = 10\n",
    "\n",
    "plt.figure(figsize=(20,20))\n",
    "m = Basemap(llcrnrlon=minLong_-buffer, llcrnrlat=minLat_-buffer,urcrnrlon=maxLong_+buffer,urcrnrlat=maxLat_+buffer,lon_0=0,lat_0=0)\n",
    "m.drawmapboundary(fill_color='#A6CAE0', linewidth=0)\n",
    "m.fillcontinents(color='grey', alpha=0.7, lake_color='grey')\n",
    "m.drawcoastlines(linewidth=0.1, color=\"white\")\n",
    "\n",
    "# Plot the lightning data\n",
    "m.plot(df_time['Long'], df_time['Lat'], linestyle='none', marker=\"o\", markersize=15, alpha=0.3, c=\"yellow\", markeredgecolor=\"black\", markeredgewidth=1)\n",
    "m.plot(inner_centers['Long'], inner_centers['Lat'], linestyle='none', marker=\".\", markersize=8, alpha=0.3, c=\"red\", markeredgecolor=\"black\", markeredgewidth=1)\n",
    "m.plot(rainband_centers['Long'], rainband_centers['Lat'], linestyle='none', marker=\".\", markersize=8, alpha=0.3, c=\"green\", markeredgecolor=\"black\", markeredgewidth=1)\n",
    "m.plot(outer_centers['Long'], outer_centers['Lat'], linestyle='none', marker=\".\", markersize=8, alpha=0.3, c=\"blue\", markeredgecolor=\"black\", markeredgewidth=1)\n",
    "\n",
    "plt.show()"
   ]
  },
  {
   "cell_type": "markdown",
   "metadata": {},
   "source": [
    "## Clustering to create a gif"
   ]
  },
  {
   "cell_type": "code",
   "execution_count": 8,
   "metadata": {},
   "outputs": [
    {
     "ename": "TypeError",
     "evalue": "'float' object cannot be interpreted as an integer",
     "output_type": "error",
     "traceback": [
      "\u001b[1;31m---------------------------------------------------------------------------\u001b[0m",
      "\u001b[1;31mTypeError\u001b[0m                                 Traceback (most recent call last)",
      "\u001b[1;32m<ipython-input-8-a74ea5654e45>\u001b[0m in \u001b[0;36m<module>\u001b[1;34m\u001b[0m\n\u001b[0;32m     17\u001b[0m                                        \u001b[1;33m(\u001b[0m\u001b[0mdf_time\u001b[0m\u001b[1;33m[\u001b[0m\u001b[1;34m'Hour'\u001b[0m\u001b[1;33m]\u001b[0m \u001b[1;33m==\u001b[0m \u001b[0mhour\u001b[0m\u001b[1;33m)\u001b[0m \u001b[1;33m&\u001b[0m\u001b[1;33m\u001b[0m\u001b[1;33m\u001b[0m\u001b[0m\n\u001b[0;32m     18\u001b[0m                                        (df_time['Min'] == minute)]\n\u001b[1;32m---> 19\u001b[1;33m                     \u001b[0minner_clusters\u001b[0m \u001b[1;33m=\u001b[0m \u001b[0mcreate_inner_df\u001b[0m\u001b[1;33m(\u001b[0m\u001b[0mdf_time\u001b[0m\u001b[1;33m)\u001b[0m\u001b[1;33m\u001b[0m\u001b[1;33m\u001b[0m\u001b[0m\n\u001b[0m\u001b[0;32m     20\u001b[0m                     \u001b[0mrainband_clusters\u001b[0m \u001b[1;33m=\u001b[0m \u001b[0mcreate_rainband_df\u001b[0m\u001b[1;33m(\u001b[0m\u001b[0mdf_time\u001b[0m\u001b[1;33m)\u001b[0m\u001b[1;33m\u001b[0m\u001b[1;33m\u001b[0m\u001b[0m\n\u001b[0;32m     21\u001b[0m                     \u001b[0mouter_clusters\u001b[0m \u001b[1;33m=\u001b[0m \u001b[0mcreate_outer_df\u001b[0m\u001b[1;33m(\u001b[0m\u001b[0mdf_time\u001b[0m\u001b[1;33m)\u001b[0m\u001b[1;33m\u001b[0m\u001b[1;33m\u001b[0m\u001b[0m\n",
      "\u001b[1;32m<ipython-input-2-ff74b8ec46ad>\u001b[0m in \u001b[0;36mcreate_inner_df\u001b[1;34m(df)\u001b[0m\n\u001b[0;32m     20\u001b[0m     \u001b[0mdf_inner_temp\u001b[0m \u001b[1;33m=\u001b[0m \u001b[0mdf_inner_temp\u001b[0m\u001b[1;33m[\u001b[0m\u001b[0mdf_inner_temp\u001b[0m\u001b[1;33m[\u001b[0m\u001b[1;34m'distance'\u001b[0m\u001b[1;33m]\u001b[0m \u001b[1;33m<=\u001b[0m \u001b[1;36m100\u001b[0m\u001b[1;33m]\u001b[0m\u001b[1;33m\u001b[0m\u001b[1;33m\u001b[0m\u001b[0m\n\u001b[0;32m     21\u001b[0m     \u001b[0mend\u001b[0m \u001b[1;33m=\u001b[0m \u001b[0mdf_inner_temp\u001b[0m\u001b[1;33m[\u001b[0m\u001b[1;34m'cluster'\u001b[0m\u001b[1;33m]\u001b[0m\u001b[1;33m.\u001b[0m\u001b[0mmax\u001b[0m\u001b[1;33m(\u001b[0m\u001b[1;33m)\u001b[0m\u001b[1;33m\u001b[0m\u001b[1;33m\u001b[0m\u001b[0m\n\u001b[1;32m---> 22\u001b[1;33m     \u001b[1;32mfor\u001b[0m \u001b[0mcurrent_chunk\u001b[0m \u001b[1;32min\u001b[0m \u001b[0mrange\u001b[0m\u001b[1;33m(\u001b[0m\u001b[1;36m1\u001b[0m\u001b[1;33m,\u001b[0m\u001b[0mend\u001b[0m\u001b[1;33m)\u001b[0m\u001b[1;33m:\u001b[0m\u001b[1;33m\u001b[0m\u001b[1;33m\u001b[0m\u001b[0m\n\u001b[0m\u001b[0;32m     23\u001b[0m         \u001b[0mdf_inner\u001b[0m \u001b[1;33m=\u001b[0m \u001b[0mdf\u001b[0m\u001b[1;33m.\u001b[0m\u001b[0mcopy\u001b[0m\u001b[1;33m(\u001b[0m\u001b[1;33m)\u001b[0m\u001b[1;33m\u001b[0m\u001b[1;33m\u001b[0m\u001b[0m\n\u001b[0;32m     24\u001b[0m         \u001b[0mdf_inner\u001b[0m \u001b[1;33m=\u001b[0m \u001b[0mdf_inner\u001b[0m\u001b[1;33m[\u001b[0m\u001b[1;33m(\u001b[0m\u001b[0mdf_inner\u001b[0m\u001b[1;33m[\u001b[0m\u001b[1;34m'distance'\u001b[0m\u001b[1;33m]\u001b[0m \u001b[1;33m<=\u001b[0m \u001b[1;36m100\u001b[0m\u001b[1;33m)\u001b[0m \u001b[1;33m&\u001b[0m \u001b[1;33m(\u001b[0m\u001b[0mdf_inner\u001b[0m\u001b[1;33m[\u001b[0m\u001b[1;34m'cluster'\u001b[0m\u001b[1;33m]\u001b[0m \u001b[1;33m==\u001b[0m \u001b[0mcurrent_chunk\u001b[0m\u001b[1;33m)\u001b[0m\u001b[1;33m]\u001b[0m\u001b[1;33m\u001b[0m\u001b[1;33m\u001b[0m\u001b[0m\n",
      "\u001b[1;31mTypeError\u001b[0m: 'float' object cannot be interpreted as an integer"
     ]
    }
   ],
   "source": [
    "df_time = add_clusters_to_df(df, minutes_between)\n",
    "df_time['distance'] = np.sqrt((df_time['Dist_East_West'] * df_time['Dist_East_West']) + \n",
    "                                (df_time['Dist_North_South'] * df_time['Dist_North_South']))\n",
    "\n",
    "year = 2017\n",
    "for x in range(len(df['Month'].unique())):\n",
    "        month = df['Month'].unique()[x]\n",
    "        for y in range(len(df[df['Month'] == df['Month'].unique()[x]]['Day'].unique())):\n",
    "            day = df[df['Month'] == df['Month'].unique()[x]]['Day'].unique()[y]\n",
    "            for z in range(len(df[df['Day'] == df[df['Month'] == df['Month'].unique()[x]]['Day'].unique()[y]]['Hour'].unique())):\n",
    "                hour = df[df['Day'] == df[df['Month'] == df['Month'].unique()[x]]['Day'].unique()[y]]['Hour'].unique()[z]\n",
    "                for w in range(0,60,minutes_between):\n",
    "                    minute = w\n",
    "                    df_time = df_time[(df_time['Year'] == year) &\n",
    "                                       (df_time['Month'] == month) &\n",
    "                                       (df_time['Day'] == day) &\n",
    "                                       (df_time['Hour'] == hour) &\n",
    "                                       (df_time['Min'] == minute)]\n",
    "                    inner_clusters = create_inner_df(df_time)\n",
    "                    rainband_clusters = create_rainband_df(df_time)\n",
    "                    outer_clusters = create_outer_df(df_time)\n",
    "                    display(df_time.info())"
   ]
  },
  {
   "cell_type": "code",
   "execution_count": null,
   "metadata": {},
   "outputs": [],
   "source": [
    "#DEPRECATED\n",
    "'''#elbow graph for visual estimation of ideal cluster count\n",
    "clusters = range(1,16)\n",
    "\n",
    "kmeans = [KMeans(n_clusters=i) for i in clusters]\n",
    "\n",
    "y = df[['Lat']]\n",
    "x = df[['Long']]\n",
    "\n",
    "score = [kmeans[i].fit(y).score(y) for i in range(len(kmeans))]\n",
    "\n",
    "plt.plot(clusters, score)\n",
    "\n",
    "plt.show()'''\n",
    "\n",
    "'''#kmeans using the set cluster count\n",
    "kmeans = KMeans(n_clusters=4, init='k-means++')\n",
    "cluster_df = coord_df\n",
    "kmeans.fit(cluster_df)\n",
    "cluster_df['cluster'] = kmeans.fit_predict(cluster_df)\n",
    "inertia = kmeans.inertia_\n",
    "labels = kmeans.predict(cluster_df[cluster_df.columns[:2]])\n",
    "centers = kmeans.cluster_centers_\n",
    "\n",
    "cluster_df.plot.scatter(x='Lat',y='Long', c=labels, s=50, cmap='spring', figsize=(20,20))\n",
    "plt.scatter(centers[:, 0], centers[:, 1], c='black', s= 200, alpha=.5)\n",
    "\n",
    "plt.show()'''\n",
    "\n",
    "'''for n_clusters in range(1,16):\n",
    "        kmeans = KMeans(n_clusters=n_clusters, init='k-means++')\n",
    "        kmeans.fit(cluster_df)\n",
    "        inertia = kmeans.inertia_\n",
    "        print(\"Cluster count: \", n_clusters, \"\\tInertia: \", inertia)\n",
    "        '''"
   ]
  },
  {
   "cell_type": "markdown",
   "metadata": {},
   "source": []
  }
 ],
 "metadata": {
  "kernelspec": {
   "display_name": "Python 3",
   "language": "python",
   "name": "python3"
  },
  "language_info": {
   "codemirror_mode": {
    "name": "ipython",
    "version": 3
   },
   "file_extension": ".py",
   "mimetype": "text/x-python",
   "name": "python",
   "nbconvert_exporter": "python",
   "pygments_lexer": "ipython3",
   "version": "3.8.3"
  }
 },
 "nbformat": 4,
 "nbformat_minor": 2
}
