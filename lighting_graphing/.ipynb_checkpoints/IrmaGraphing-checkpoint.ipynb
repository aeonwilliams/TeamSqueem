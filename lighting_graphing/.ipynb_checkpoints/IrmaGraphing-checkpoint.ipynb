{
 "cells": [
  {
   "cell_type": "code",
   "execution_count": 1,
   "metadata": {},
   "outputs": [
    {
     "data": {
      "text/html": [
       "<style>.container { width:100% !important; }</style>"
      ],
      "text/plain": [
       "<IPython.core.display.HTML object>"
      ]
     },
     "metadata": {},
     "output_type": "display_data"
    }
   ],
   "source": [
    "from IPython.core.display import display, HTML\n",
    "display(HTML(\"<style>.container { width:100% !important; }</style>\")) # makes the notebook fill the whole window\n",
    "\n",
    "import numpy as np\n",
    "import pandas as pd\n",
    "import matplotlib as mpl\n",
    "from matplotlib import pyplot as plt\n",
    "from matplotlib.pyplot import figure\n",
    "import datetime\n",
    "\n",
    "# from bokeh.io import output_file, show\n",
    "# from bokeh.models import ColumnDataSource, GMapOptions\n",
    "# from bokeh.plotting import gmap\n",
    "\n",
    "from PIL import Image, ImageDraw\n",
    "import os\n",
    "import shutil\n",
    "\n",
    "from mpl_toolkits.basemap import Basemap\n",
    "\n",
    "%matplotlib inline\n",
    "\n",
    "#Turn off interactive plotting for pyplot\n",
    "plt.ioff()"
   ]
  },
  {
   "cell_type": "code",
   "execution_count": 49,
   "metadata": {},
   "outputs": [],
   "source": [
    "df = pd.read_csv('./Irma Storm centered/ATL_17_11_Irma_Reduced_Trackfile.txt',header=None,names=[\"Year\",\"Month\",\"Day\",\"Hour\",\"Lat\",\"Long\",\"Min_Pressure\",\"Max_Winds\",\"Unused\"],low_memory=False,sep='\\t')\n",
    "df = df.drop(\"Unused\",axis=1)\n",
    "ln = pd.read_csv('./Irma Storm centered/ATL_17_11_Irma_WWLLN_Locations.txt',header=None,names=[\"Year\",\"Month\",\"Day\",\"Hour\",\"Min\",\"Sec\",\"Lat\",\"Long\",\"Dist_East_West\",\"Dist_North_South\"],low_memory=False,sep=' ')"
   ]
  },
  {
   "cell_type": "code",
   "execution_count": 60,
   "metadata": {
    "scrolled": false
   },
   "outputs": [],
   "source": [
    "#Graph the center of the storm and lightning\n",
    "for x in range(len(df['Month'].unique())):\n",
    "    month = df['Month'].unique()[x]\n",
    "    for y in range(len(df[df['Month'] == df['Month'].unique()[x]]['Day'].unique())):\n",
    "        day = df[df['Month'] == df['Month'].unique()[x]]['Day'].unique()[y]\n",
    "        for z in range(len(df[df['Day'] == df[df['Month'] == df['Month'].unique()[x]]['Day'].unique()[y]]['Hour'].unique())):\n",
    "            hour = df[df['Day'] == df[df['Month'] == df['Month'].unique()[x]]['Day'].unique()[y]]['Hour'].unique()[z]\n",
    "            for w in range(0,60,30):\n",
    "                minute = w\n",
    "                #The above gets the month, day, hour, minute (before 30 minutes or after 30 minutes)\n",
    "                #Make big map\n",
    "                fig = plt.figure(figsize=(30,15))\n",
    "                m = Basemap(llcrnrlon=minLong_-10, llcrnrlat=minLat_-10,urcrnrlon=maxLong_+10,urcrnrlat=maxLat_+10,lon_0=0,lat_0=0)\n",
    "                m.drawmapboundary(fill_color='#A6CAE0', linewidth=0)\n",
    "                m.fillcontinents(color='grey', alpha=0.7, lake_color='grey')\n",
    "                m.drawcoastlines(linewidth=0.1, color=\"white\")\n",
    "                #Plot ticks for lat/long\n",
    "                plt.xticks(np.arange(minLong_-10,maxLong_+10,step=5))\n",
    "                plt.yticks(np.arange(minLat_-10,maxLat_+10,step=5))\n",
    "                #Title the map 2017:month:day::hour:minute\n",
    "                plt.title(\"2017:\" + str(month) + \":\" + str(day) + \"::\" + str(hour) + \":\" + str(minute))\n",
    "                #Plot the center of Irma\n",
    "                m.plot(df[(df['Month'] == month) & (df['Day'] == day) & (df['Hour'] == hour)]['Long'], df[(df['Month'] == month) & (df['Day'] == day) & (df['Hour'] == hour)]['Lat'], linestyle='none', marker=\"o\", markersize=30, alpha=1, c=\"red\", markeredgecolor=\"black\", markeredgewidth=1)\n",
    "                #Plot all of the lightning that appears on that month/day/hour/minute section\n",
    "                m.plot(ln[(ln['Month'] == month) & (ln['Day'] == day) & (ln['Hour'] == hour) & (ln['Min'] >= minute) & (ln['Min'] <= minute + 30)]['Long'],ln[(ln['Month'] == month) & (ln['Day'] == day) & (ln['Hour'] == hour) & (ln['Min'] >= minute) & (ln['Min'] <= minute + 30)]['Lat'], linestyle='none', marker=\"X\", markersize=8, alpha=.7, c=\"yellow\", markeredgecolor=\"black\", markeredgewidth=1)\n",
    "                #Save and close the figure\n",
    "                plt.savefig(\"./data/Irma/\" + \"2017_\" + str(month) + \"_\" + str(day) + \"_\" + str(hour) + \"_\" + str(minute),bbox_inches='tight')\n",
    "                plt.close(fig)"
   ]
  }
 ],
 "metadata": {
  "kernelspec": {
   "display_name": "Python 3",
   "language": "python",
   "name": "python3"
  },
  "language_info": {
   "codemirror_mode": {
    "name": "ipython",
    "version": 3
   },
   "file_extension": ".py",
   "mimetype": "text/x-python",
   "name": "python",
   "nbconvert_exporter": "python",
   "pygments_lexer": "ipython3",
   "version": "3.7.4"
  }
 },
 "nbformat": 4,
 "nbformat_minor": 2
}
