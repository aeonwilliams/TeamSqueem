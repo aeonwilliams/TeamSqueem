{
 "cells": [
  {
   "cell_type": "code",
   "execution_count": 71,
   "metadata": {},
   "outputs": [
    {
     "data": {
      "text/html": [
       "<style>.container { width:100% !important; }</style>"
      ],
      "text/plain": [
       "<IPython.core.display.HTML object>"
      ]
     },
     "metadata": {},
     "output_type": "display_data"
    }
   ],
   "source": [
    "from IPython.core.display import display, HTML\n",
    "display(HTML(\"<style>.container { width:100% !important; }</style>\")) # makes the notebook fill the whole window\n",
    "\n",
    "import numpy as np\n",
    "import pandas as pd\n",
    "import matplotlib as mpl\n",
    "from matplotlib import pyplot as plt\n",
    "from matplotlib.pyplot import figure\n",
    "import datetime\n",
    "\n",
    "# from bokeh.io import output_file, show\n",
    "# from bokeh.models import ColumnDataSource, GMapOptions\n",
    "# from bokeh.plotting import gmap\n",
    "\n",
    "from PIL import Image, ImageDraw\n",
    "import os\n",
    "import shutil\n",
    "\n",
    "from mpl_toolkits.basemap import Basemap\n",
    "\n",
    "%matplotlib inline\n",
    "\n",
    "#Turn off interactive plotting for pyplot\n",
    "plt.ioff()"
   ]
  },
  {
   "cell_type": "code",
   "execution_count": 72,
   "metadata": {},
   "outputs": [],
   "source": [
    "df = pd.read_csv('./Irma Storm centered/ATL_17_11_Irma_Reduced_Trackfile.txt',header=None,names=[\"Year\",\"Month\",\"Day\",\"Hour\",\"Lat\",\"Long\",\"Min_Pressure\",\"Max_Winds\",\"Unused\"],low_memory=False,sep='\\t')\n",
    "df = df.drop(\"Unused\",axis=1)\n",
    "ln = pd.read_csv('./Irma Storm centered/ATL_17_11_Irma_WWLLN_Locations.txt',header=None,names=[\"Year\",\"Month\",\"Day\",\"Hour\",\"Min\",\"Sec\",\"Lat\",\"Long\",\"Dist_East_West\",\"Dist_North_South\"],low_memory=False,sep=' ')\n",
    "\n",
    "minLong_, minLat_, maxLong_, maxLat_ = ln['Long'].min(), ln['Lat'].min(), ln['Long'].max(), ln['Lat'].max()\n",
    "buffer = 10"
   ]
  },
  {
   "cell_type": "code",
   "execution_count": 73,
   "metadata": {},
   "outputs": [],
   "source": [
    "# Create interpolated data\n",
    "dfc = df.copy()\n",
    "for i in range(60):\n",
    "    s = dfc.iloc[i]\n",
    "    s2 = dfc.iloc[i+1]\n",
    "    newLat = np.linspace(s.Lat,s2.Lat,num=6)\n",
    "    newLong = np.linspace(s.Long,s2.Long,num=6)\n",
    "    newMin = np.linspace(s.Min_Pressure,s2.Min_Pressure,num=6)\n",
    "    newWinds = np.linspace(s.Max_Winds, s2.Max_Winds, num=6)\n",
    "    newHours = np.arange(s.Hour,s.Hour + 6)\n",
    "    newYears = [s.Year for x in range(6)]\n",
    "    newMonths = [s.Month for x in range(6)]\n",
    "    newDays = [s.Day for x in range(6)]\n",
    "    newDf = pd.DataFrame([newYears, newMonths, newDays, newHours, newLat, newLong, newMin, newWinds]).T\n",
    "    newDf.columns=['Year','Month','Day','Hour','Lat','Long','Min_Pressure','Max_Winds']\n",
    "    dfc = dfc.append(newDf,ignore_index=True)"
   ]
  },
  {
   "cell_type": "code",
   "execution_count": 74,
   "metadata": {
    "scrolled": false
   },
   "outputs": [],
   "source": [
    "df, dfc = dfc, df # Swap the two dataframes\n",
    "#Graph the center of the storm and lightning\n",
    "for x in range(len(df['Month'].unique())):\n",
    "    month = df['Month'].unique()[x]\n",
    "    for y in range(len(df[df['Month'] == df['Month'].unique()[x]]['Day'].unique())):\n",
    "        day = df[df['Month'] == df['Month'].unique()[x]]['Day'].unique()[y]\n",
    "        for z in range(len(df[df['Day'] == df[df['Month'] == df['Month'].unique()[x]]['Day'].unique()[y]]['Hour'].unique())):\n",
    "            hour = df[df['Day'] == df[df['Month'] == df['Month'].unique()[x]]['Day'].unique()[y]]['Hour'].unique()[z]\n",
    "            for w in range(0,60,30):\n",
    "                minute = w\n",
    "                #The above gets the month, day, hour, minute (before 30 minutes or after 30 minutes)\n",
    "                #Make big map\n",
    "                fig = plt.figure(figsize=(30,15))\n",
    "                m = Basemap(llcrnrlon=minLong_-buffer, llcrnrlat=minLat_-buffer,urcrnrlon=maxLong_+buffer,urcrnrlat=maxLat_+buffer,lon_0=0,lat_0=0)\n",
    "                m.drawmapboundary(fill_color='#A6CAE0', linewidth=0)\n",
    "                m.fillcontinents(color='grey', alpha=0.7, lake_color='grey')\n",
    "                m.drawcoastlines(linewidth=0.1, color=\"white\")\n",
    "                #Plot ticks for lat/long\n",
    "                plt.xticks(np.arange(minLong_-buffer,maxLong_+buffer,step=5))\n",
    "                plt.yticks(np.arange(minLat_-buffer,maxLat_+buffer,step=5))\n",
    "                #Title the map 2017:month:day::hour:minute\n",
    "                plt.title(\"2017:\" + '{:2d}'.format(int(month)) + \":\" + '{:2d}'.format(int(day)) + \"::\" + '{:2d}'.format(int(hour)) + \":\" + '{:2d}'.format(int(minute)))\n",
    "                #Plot the center of Irma\n",
    "                m.plot(df[(df['Month'] == month) & (df['Day'] == day) & (df['Hour'] == hour)]['Long'], df[(df['Month'] == month) & (df['Day'] == day) & (df['Hour'] == hour)]['Lat'], linestyle='none', marker=\"o\", markersize=30, alpha=1, c=\"red\", markeredgecolor=\"black\", markeredgewidth=1)\n",
    "                #Plot all of the lightning that appears on that month/day/hour/minute section\n",
    "                m.plot(ln[(ln['Month'] == month) & (ln['Day'] == day) & (ln['Hour'] == hour) & (ln['Min'] >= minute) & (ln['Min'] <= minute + 30)]['Long'],ln[(ln['Month'] == month) & (ln['Day'] == day) & (ln['Hour'] == hour) & (ln['Min'] >= minute) & (ln['Min'] <= minute + 30)]['Lat'], linestyle='none', marker=\"X\", markersize=8, alpha=.7, c=\"yellow\", markeredgecolor=\"black\", markeredgewidth=1)\n",
    "                #Save and close the figure\n",
    "                plt.savefig(\"./data/Irma/\" + \"2017_\" + str(int(month)) + \"_\" + str(int(day)) + \"_\" + str(int(hour)) + \"_\" + str(int(minute)),bbox_inches='tight')\n",
    "                plt.close(fig)"
   ]
  },
  {
   "cell_type": "code",
   "execution_count": null,
   "metadata": {},
   "outputs": [],
   "source": []
  }
 ],
 "metadata": {
  "kernelspec": {
   "display_name": "Python 3",
   "language": "python",
   "name": "python3"
  },
  "language_info": {
   "codemirror_mode": {
    "name": "ipython",
    "version": 3
   },
   "file_extension": ".py",
   "mimetype": "text/x-python",
   "name": "python",
   "nbconvert_exporter": "python",
   "pygments_lexer": "ipython3",
   "version": "3.7.4"
  }
 },
 "nbformat": 4,
 "nbformat_minor": 2
}
