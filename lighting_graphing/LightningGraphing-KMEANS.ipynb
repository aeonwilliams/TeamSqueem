{
 "cells": [
  {
   "cell_type": "markdown",
   "metadata": {},
   "source": [
    "<img src=\"../squeemos_blk.png\" width=200 height=200 />"
   ]
  },
  {
   "cell_type": "code",
   "execution_count": 1,
   "metadata": {},
   "outputs": [
    {
     "data": {
      "text/html": [
       "<style>.container { width:100% !important; }</style>"
      ],
      "text/plain": [
       "<IPython.core.display.HTML object>"
      ]
     },
     "metadata": {},
     "output_type": "display_data"
    }
   ],
   "source": [
    "from IPython.core.display import display, HTML\n",
    "display(HTML(\"<style>.container { width:100% !important; }</style>\")) # makes the notebook fill the whole window\n",
    "\n",
    "import numpy as np\n",
    "import pandas as pd\n",
    "import matplotlib as mpl\n",
    "from matplotlib import pyplot as plt\n",
    "\n",
    "from sklearn.cluster import KMeans\n",
    "from sklearn.metrics import silhouette_score\n",
    "import seaborn as sns; sns.set()\n",
    "import csv\n",
    "\n",
    "from PIL import Image, ImageDraw\n",
    "import os\n",
    "import shutil\n",
    "\n",
    "from mpl_toolkits.basemap import Basemap\n",
    "\n",
    "import functools\n",
    "import operator\n",
    "\n",
    "#there is currently a bug in panda's scatter_matrix that produces a warning that has no affect on what I'm doin :)\n",
    "import warnings\n",
    "warnings.filterwarnings(\"ignore\")"
   ]
  },
  {
   "cell_type": "code",
   "execution_count": 2,
   "metadata": {
    "scrolled": true
   },
   "outputs": [],
   "source": [
    "#load in the data\n",
    "df = pd.read_csv('./Irma Storm centered/ATL_17_11_Irma_WWLLN_Locations.txt',header=None,names=[\"Year\",\"Month\",\"Day\",\"Hour\",\"Min\",\"Sec\",\"Lat\",\"Long\",\"Dist_East_West\",\"Dist_North_South\"],low_memory=False, delim_whitespace=True)\n",
    "df.dropna(axis=0,how='any',subset=['Lat','Long'],inplace=True)\n",
    "\n",
    "df_center = pd.read_csv('./Irma Storm centered/ATL_17_11_Irma_Reduced_Trackfile.txt',header=None,names=[\"Year\",\"Month\",\"Day\",\"Hour\",\"Lat\",\"Long\",\"Min_Pressure\",\"Max_Winds\",\"Unused\"],low_memory=False,sep='\\t')\n",
    "df_center.dropna(axis=0,how='any',subset=['Lat','Long'],inplace=True)\n",
    "\n",
    "df_time = pd.DataFrame()\n",
    "df_time['cluster'] = 0"
   ]
  },
  {
   "cell_type": "code",
   "execution_count": 3,
   "metadata": {},
   "outputs": [
    {
     "name": "stdout",
     "output_type": "stream",
     "text": [
      "<class 'pandas.core.frame.DataFrame'>\n",
      "Int64Index: 226789 entries, 0 to 226788\n",
      "Data columns (total 10 columns):\n",
      "Year                226789 non-null int64\n",
      "Month               226789 non-null int64\n",
      "Day                 226789 non-null int64\n",
      "Hour                226789 non-null int64\n",
      "Min                 226789 non-null int64\n",
      "Sec                 226789 non-null float64\n",
      "Lat                 226789 non-null float64\n",
      "Long                226789 non-null float64\n",
      "Dist_East_West      226789 non-null float64\n",
      "Dist_North_South    226789 non-null float64\n",
      "dtypes: float64(5), int64(5)\n",
      "memory usage: 19.0 MB\n"
     ]
    },
    {
     "data": {
      "text/plain": [
       "None"
      ]
     },
     "metadata": {},
     "output_type": "display_data"
    },
    {
     "name": "stdout",
     "output_type": "stream",
     "text": [
      "<class 'pandas.core.frame.DataFrame'>\n",
      "Int64Index: 61 entries, 0 to 60\n",
      "Data columns (total 9 columns):\n",
      "Year            61 non-null int64\n",
      "Month           61 non-null int64\n",
      "Day             61 non-null int64\n",
      "Hour            61 non-null int64\n",
      "Lat             61 non-null float64\n",
      "Long            61 non-null float64\n",
      "Min_Pressure    61 non-null int64\n",
      "Max_Winds       61 non-null int64\n",
      "Unused          61 non-null int64\n",
      "dtypes: float64(2), int64(7)\n",
      "memory usage: 4.8 KB\n"
     ]
    },
    {
     "data": {
      "text/plain": [
       "None"
      ]
     },
     "metadata": {},
     "output_type": "display_data"
    }
   ],
   "source": [
    "display(df.info())\n",
    "display(df_center.info())"
   ]
  },
  {
   "cell_type": "code",
   "execution_count": 4,
   "metadata": {},
   "outputs": [
    {
     "name": "stdout",
     "output_type": "stream",
     "text": [
      "<class 'pandas.core.frame.DataFrame'>\n",
      "RangeIndex: 230720 entries, 0 to 230719\n",
      "Data columns (total 12 columns):\n",
      "Day                 230720 non-null float64\n",
      "Dist_East_West      230720 non-null float64\n",
      "Dist_North_South    230720 non-null float64\n",
      "Hour                230720 non-null float64\n",
      "Lat                 230720 non-null float64\n",
      "Long                230720 non-null float64\n",
      "Min                 230720 non-null float64\n",
      "Month               230720 non-null float64\n",
      "Sec                 230720 non-null float64\n",
      "Year                230720 non-null float64\n",
      "cluster             230720 non-null int64\n",
      "distance            230720 non-null float64\n",
      "dtypes: float64(11), int64(1)\n",
      "memory usage: 21.1 MB\n"
     ]
    }
   ],
   "source": [
    "#make a dataframe that contains strikes in time intervals\n",
    "minutes_between = 30\n",
    "cluster = 0\n",
    "\n",
    "for x in range(len(df['Month'].unique())):\n",
    "    month = df['Month'].unique()[x]\n",
    "    for y in range(len(df[df['Month'] == df['Month'].unique()[x]]['Day'].unique())):\n",
    "        day = df[df['Month'] == df['Month'].unique()[x]]['Day'].unique()[y]\n",
    "        for z in range(len(df[df['Day'] == df[df['Month'] == df['Month'].unique()[x]]['Day'].unique()[y]]['Hour'].unique())):\n",
    "            hour = df[df['Day'] == df[df['Month'] == df['Month'].unique()[x]]['Day'].unique()[y]]['Hour'].unique()[z]\n",
    "            for w in range(0,60,minutes_between):\n",
    "                minute = w\n",
    "                aeon_sucks = df[(df['Month'] == month) & (df['Day'] == day) & (df['Hour'] == hour) & (df['Min'] >= minute) & (df['Min'] <= minute + minutes_between)]\n",
    "                aeon_sucks['cluster'] = cluster\n",
    "                df_time = df_time.append(aeon_sucks, ignore_index=True)\n",
    "                cluster+=1\n",
    "df_time['distance'] = np.sqrt((df_time['Dist_East_West'] * df_time['Dist_East_West']) + \n",
    "                                (df_time['Dist_North_South'] * df_time['Dist_North_South']))\n",
    "df_time.info()"
   ]
  },
  {
   "cell_type": "code",
   "execution_count": 5,
   "metadata": {},
   "outputs": [
    {
     "name": "stdout",
     "output_type": "stream",
     "text": [
      "<class 'pandas.core.frame.DataFrame'>\n",
      "Int64Index: 30 entries, 5142 to 5171\n",
      "Data columns (total 12 columns):\n",
      "Day                 30 non-null float64\n",
      "Dist_East_West      30 non-null float64\n",
      "Dist_North_South    30 non-null float64\n",
      "Hour                30 non-null float64\n",
      "Lat                 30 non-null float64\n",
      "Long                30 non-null float64\n",
      "Min                 30 non-null float64\n",
      "Month               30 non-null float64\n",
      "Sec                 30 non-null float64\n",
      "Year                30 non-null float64\n",
      "cluster             30 non-null int64\n",
      "distance            30 non-null float64\n",
      "dtypes: float64(11), int64(1)\n",
      "memory usage: 3.0 KB\n"
     ]
    }
   ],
   "source": [
    "#apply date restriction if desired\n",
    "df_time = df_time[(df_time['Year'] == 2017) &\n",
    "                   (df_time['Month'] == 8) &\n",
    "                   (df_time['Day'] == 27) &\n",
    "                   (df_time['Hour'] == 23) &\n",
    "                   (df_time['Min'] == 30)]\n",
    "df_time.info()"
   ]
  },
  {
   "cell_type": "code",
   "execution_count": 6,
   "metadata": {},
   "outputs": [],
   "source": [
    "def find_centers(df):\n",
    "    if df.shape[0] > 0:\n",
    "        num_clusters = 5\n",
    "        if df.shape[0] < num_clusters:\n",
    "            num_clusters = df.shape[0]\n",
    "        kmeans = KMeans(n_clusters=num_clusters, init='k-means++')\n",
    "        kmeans.fit(df[['Lat', 'Long']])\n",
    "        df['cluster_label'] = kmeans.fit_predict(df[['Lat', 'Long']])\n",
    "        centers = kmeans.cluster_centers_\n",
    "        return centers\n",
    "    result = np.empty((2,1))\n",
    "    result[:] = np.NaN\n",
    "    return result\n",
    "\n",
    "def kmeansify_inner():\n",
    "    centers = []\n",
    "    df_inner_temp = df_time.copy()\n",
    "    df_inner_temp = df_inner_temp[df_inner_temp['distance'] <= 100]\n",
    "    end = df_inner_temp['cluster'].max()\n",
    "    for current_chunk in range(1,end):\n",
    "        df_inner = df_time.copy()\n",
    "        df_inner = df_inner[(df_inner['distance'] <= 100) & (df_inner['cluster'] == current_chunk)]\n",
    "        centers.append(find_centers(df_inner))\n",
    "    \n",
    "    #flatten the list\n",
    "    centers = functools.reduce(operator.iconcat, centers, [])\n",
    "    #drop nan\n",
    "    centers = [x for x in centers if str(x) != 'nan']\n",
    "    return centers\n",
    "\n",
    "def kmeansify_rainband():\n",
    "    centers = []\n",
    "    df_rainband_temp = df_time.copy()\n",
    "    df_rainband_temp = df_rainband_temp[(df_rainband_temp['distance'] >= 200) & (df_rainband_temp['distance'] <= 400)]\n",
    "    end = df_rainband_temp['cluster'].max()\n",
    "    for current_chunk in range(1,end):\n",
    "        df_rainband = df_time.copy()\n",
    "        df_rainband = df_rainband[(df_rainband['distance'] >= 200) & (df_rainband['distance'] <= 400)]\n",
    "        centers.append(find_centers(df_rainband))\n",
    "    \n",
    "    #flatten the list\n",
    "    centers = functools.reduce(operator.iconcat, centers, [])\n",
    "    #drop nan\n",
    "    centers = [x for x in centers if str(x) != 'nan']\n",
    "    return centers\n",
    "\n",
    "def kmeansify_outer():\n",
    "    centers = []\n",
    "    df_outer_temp = df_time.copy()\n",
    "    df_outer_temp = df_outer_temp[(df_outer_temp['distance'] >= 400) & (df_outer_temp['distance'] <= 600)]\n",
    "    end = df_outer_temp['cluster'].max()\n",
    "    for current_chunk in range(1,end):\n",
    "        df_outer = df_time.copy()\n",
    "        df_outer = df_outer[(df_outer['distance'] >= 400) & (df_outer['distance'] <= 600)]\n",
    "        centers.append(find_centers(df_outer))\n",
    "    \n",
    "    #flatten the list\n",
    "    centers = functools.reduce(operator.iconcat, centers, [])\n",
    "    #drop nan\n",
    "    centers = [x for x in centers if str(x) != 'nan']\n",
    "    return centers"
   ]
  },
  {
   "cell_type": "code",
   "execution_count": 7,
   "metadata": {},
   "outputs": [],
   "source": [
    "inner_clusters = kmeansify_inner()\n",
    "rainband_clusters = kmeansify_rainband()\n",
    "outer_clusters = kmeansify_outer()"
   ]
  },
  {
   "cell_type": "code",
   "execution_count": 17,
   "metadata": {
    "scrolled": false
   },
   "outputs": [
    {
     "data": {
      "image/png": "[encoded data removed]",
      "text/plain": [
       "<Figure size 1440x1440 with 1 Axes>"
      ]
     },
     "metadata": {},
     "output_type": "display_data"
    }
   ],
   "source": [
    "'''\n",
    "df_inner.plot.scatter(x='Lat',y='Long', c=labels, s=50, cmap='spring', figsize=(40,40))\n",
    "plt.scatter(centers[:, 0], centers[:, 1], c='black', s= 200, alpha=.5)\n",
    "plt.show()'''\n",
    "inner_centers = pd.DataFrame(data=inner_clusters, columns=[\"Lat\", \"Long\"])\n",
    "rainband_centers = pd.DataFrame(data=rainband_clusters, columns=[\"Lat\", \"Long\"])\n",
    "outer_centers = pd.DataFrame(data=outer_clusters, columns=[\"Lat\", \"Long\"])\n",
    "\n",
    "ln = pd.read_csv('./Irma Storm centered/ATL_17_11_Irma_WWLLN_Locations.txt',header=None,names=[\"Year\",\"Month\",\"Day\",\"Hour\",\"Min\",\"Sec\",\"Lat\",\"Long\",\"Dist_East_West\",\"Dist_North_South\"],low_memory=False,sep=' ')\n",
    "minLong_, minLat_, maxLong_, maxLat_ = ln['Long'].min(), ln['Lat'].min(), ln['Long'].max(), ln['Lat'].max()\n",
    "buffer = 10\n",
    "\n",
    "plt.figure(figsize=(20,20))\n",
    "m = Basemap(llcrnrlon=minLong_-buffer, llcrnrlat=minLat_-buffer,urcrnrlon=maxLong_+buffer,urcrnrlat=maxLat_+buffer,lon_0=0,lat_0=0)\n",
    "m.drawmapboundary(fill_color='#A6CAE0', linewidth=0)\n",
    "m.fillcontinents(color='grey', alpha=0.7, lake_color='grey')\n",
    "m.drawcoastlines(linewidth=0.1, color=\"white\")\n",
    "\n",
    "# Plot the lightning data\n",
    "m.plot(df_time['Long'], df_time['Lat'], linestyle='none', marker=\"o\", markersize=15, alpha=0.3, c=\"yellow\", markeredgecolor=\"black\", markeredgewidth=1)\n",
    "m.plot(inner_centers['Long'], inner_centers['Lat'], linestyle='none', marker=\".\", markersize=8, alpha=0.3, c=\"red\", markeredgecolor=\"black\", markeredgewidth=1)\n",
    "m.plot(rainband_centers['Long'], rainband_centers['Lat'], linestyle='none', marker=\".\", markersize=8, alpha=0.3, c=\"green\", markeredgecolor=\"black\", markeredgewidth=1)\n",
    "m.plot(outer_centers['Long'], outer_centers['Lat'], linestyle='none', marker=\".\", markersize=8, alpha=0.3, c=\"blue\", markeredgecolor=\"black\", markeredgewidth=1)\n",
    "\n",
    "plt.show()"
   ]
  },
  {
   "cell_type": "code",
   "execution_count": 9,
   "metadata": {},
   "outputs": [
    {
     "data": {
      "text/plain": [
       "'for n_clusters in range(1,16):\\n        kmeans = KMeans(n_clusters=n_clusters, init=\\'k-means++\\')\\n        kmeans.fit(cluster_df)\\n        inertia = kmeans.inertia_\\n        print(\"Cluster count: \", n_clusters, \"\\tInertia: \", inertia)\\n        '"
      ]
     },
     "execution_count": 9,
     "metadata": {},
     "output_type": "execute_result"
    }
   ],
   "source": [
    "#DEPRECATED\n",
    "'''#elbow graph for visual estimation of ideal cluster count\n",
    "clusters = range(1,16)\n",
    "\n",
    "kmeans = [KMeans(n_clusters=i) for i in clusters]\n",
    "\n",
    "y = df[['Lat']]\n",
    "x = df[['Long']]\n",
    "\n",
    "score = [kmeans[i].fit(y).score(y) for i in range(len(kmeans))]\n",
    "\n",
    "plt.plot(clusters, score)\n",
    "\n",
    "plt.show()'''\n",
    "\n",
    "'''#kmeans using the set cluster count\n",
    "kmeans = KMeans(n_clusters=4, init='k-means++')\n",
    "cluster_df = coord_df\n",
    "kmeans.fit(cluster_df)\n",
    "cluster_df['cluster'] = kmeans.fit_predict(cluster_df)\n",
    "inertia = kmeans.inertia_\n",
    "labels = kmeans.predict(cluster_df[cluster_df.columns[:2]])\n",
    "centers = kmeans.cluster_centers_\n",
    "\n",
    "cluster_df.plot.scatter(x='Lat',y='Long', c=labels, s=50, cmap='spring', figsize=(20,20))\n",
    "plt.scatter(centers[:, 0], centers[:, 1], c='black', s= 200, alpha=.5)\n",
    "\n",
    "plt.show()'''\n",
    "\n",
    "'''for n_clusters in range(1,16):\n",
    "        kmeans = KMeans(n_clusters=n_clusters, init='k-means++')\n",
    "        kmeans.fit(cluster_df)\n",
    "        inertia = kmeans.inertia_\n",
    "        print(\"Cluster count: \", n_clusters, \"\\tInertia: \", inertia)\n",
    "        '''"
   ]
  },
  {
   "cell_type": "markdown",
   "metadata": {},
   "source": []
  }
 ],
 "metadata": {
  "kernelspec": {
   "display_name": "Python 3",
   "language": "python",
   "name": "python3"
  },
  "language_info": {
   "codemirror_mode": {
    "name": "ipython",
    "version": 3
   },
   "file_extension": ".py",
   "mimetype": "text/x-python",
   "name": "python",
   "nbconvert_exporter": "python",
   "pygments_lexer": "ipython3",
   "version": "3.7.3"
  }
 },
 "nbformat": 4,
 "nbformat_minor": 2
}
