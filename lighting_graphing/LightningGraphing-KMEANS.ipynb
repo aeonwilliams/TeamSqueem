{
 "cells": [
  {
   "cell_type": "markdown",
   "metadata": {},
   "source": [
    "<img src=\"../squeemos_blk.png\" width=200 height=200 />"
   ]
  },
  {
   "cell_type": "code",
   "execution_count": null,
   "metadata": {},
   "outputs": [],
   "source": [
    "from IPython.core.display import display, HTML\n",
    "display(HTML(\"<style>.container { width:100% !important; }</style>\")) # makes the notebook fill the whole window\n",
    "\n",
    "import numpy as np\n",
    "import pandas as pd\n",
    "import matplotlib as mpl\n",
    "from matplotlib import pyplot as plt\n",
    "\n",
    "from sklearn.cluster import KMeans\n",
    "from sklearn.metrics import silhouette_score\n",
    "import seaborn as sns; sns.set()\n",
    "import csv\n",
    "\n",
    "from PIL import Image, ImageDraw\n",
    "import os\n",
    "import shutil\n",
    "\n",
    "from mpl_toolkits.basemap import Basemap\n",
    "\n",
    "#there is currently a bug in panda's scatter_matrix that produces a warning that has no affect on what I'm doin :)\n",
    "import warnings\n",
    "warnings.filterwarnings(\"ignore\")"
   ]
  },
  {
   "cell_type": "code",
   "execution_count": null,
   "metadata": {
    "scrolled": true
   },
   "outputs": [],
   "source": [
    "#load in the data\n",
    "df = pd.read_csv('./Irma Storm centered/ATL_17_11_Irma_WWLLN_Locations.txt',header=None,names=[\"Year\",\"Month\",\"Day\",\"Hour\",\"Min\",\"Sec\",\"Lat\",\"Long\",\"Dist_East_West\",\"Dist_North_South\"],low_memory=False, delim_whitespace=True)\n",
    "df.dropna(axis=0,how='any',subset=['Lat','Long'],inplace=True)\n",
    "\n",
    "df_center = pd.read_csv('./Irma Storm centered/ATL_17_11_Irma_Reduced_Trackfile.txt',header=None,names=[\"Year\",\"Month\",\"Day\",\"Hour\",\"Lat\",\"Long\",\"Min_Pressure\",\"Max_Winds\",\"Unused\"],low_memory=False,sep='\\t')\n",
    "df_center.dropna(axis=0,how='any',subset=['Lat','Long'],inplace=True)\n",
    "\n",
    "df_time = pd.DataFrame()\n",
    "df_time['cluster'] = 0\n",
    "\n",
    "df_inner = df.copy()\n",
    "\n",
    "df_rainband = df.copy()"
   ]
  },
  {
   "cell_type": "code",
   "execution_count": null,
   "metadata": {},
   "outputs": [],
   "source": [
    "display(df.info())\n",
    "display(df_center.info())"
   ]
  },
  {
   "cell_type": "code",
   "execution_count": null,
   "metadata": {},
   "outputs": [],
   "source": [
    "#make a dataframe that contains strikes in time intervals\n",
    "minutes_between = 30\n",
    "cluster = 0\n",
    "\n",
    "for x in range(len(df['Month'].unique())):\n",
    "    month = df['Month'].unique()[x]\n",
    "    for y in range(len(df[df['Month'] == df['Month'].unique()[x]]['Day'].unique())):\n",
    "        day = df[df['Month'] == df['Month'].unique()[x]]['Day'].unique()[y]\n",
    "        for z in range(len(df[df['Day'] == df[df['Month'] == df['Month'].unique()[x]]['Day'].unique()[y]]['Hour'].unique())):\n",
    "            hour = df[df['Day'] == df[df['Month'] == df['Month'].unique()[x]]['Day'].unique()[y]]['Hour'].unique()[z]\n",
    "            for w in range(0,60,minutes_between):\n",
    "                minute = w\n",
    "                aeon_sucks = df[(df['Month'] == month) & (df['Day'] == day) & (df['Hour'] == hour) & (df['Min'] >= minute) & (df['Min'] <= minute + minutes_between)]\n",
    "                aeon_sucks['cluster'] = cluster\n",
    "                df_time = df_time.append(aeon_sucks, ignore_index=True)\n",
    "                cluster+=1\n",
    "\n",
    "df_time.info()"
   ]
  },
  {
   "cell_type": "code",
   "execution_count": null,
   "metadata": {
    "scrolled": true
   },
   "outputs": [],
   "source": [
    "df_inner['distance'] = np.sqrt((df_inner['Dist_East_West'] * df_inner['Dist_East_West']) + \n",
    "                               (df_inner['Dist_North_South'] * df_inner['Dist_North_South']))\n",
    "df_inner = df_inner[df_inner['distance'] <= 100]\n",
    "df_inner.info()"
   ]
  },
  {
   "cell_type": "code",
   "execution_count": null,
   "metadata": {
    "scrolled": true
   },
   "outputs": [],
   "source": [
    "df_rainband['distance'] = np.sqrt((df_rainband['Dist_East_West'] * df_rainband['Dist_East_West']) + \n",
    "                               (df_rainband['Dist_North_South'] * df_rainband['Dist_North_South']))\n",
    "df_rainband = df_rainband[(df_rainband['distance'] >= 200) & (df_rainband['distance'] <= 400)]\n",
    "df_rainband.info()"
   ]
  },
  {
   "cell_type": "code",
   "execution_count": null,
   "metadata": {},
   "outputs": [],
   "source": [
    "def kmeansify(df, num_clusters):\n",
    "    coord_df = df.loc[:,['Lat','Long']]\n",
    "    \n",
    "    #kmeans using the set cluster count\n",
    "    kmeans = KMeans(n_clusters=num_clusters, init='k-means++')\n",
    "    cluster_df = coord_df\n",
    "    kmeans.fit(cluster_df)\n",
    "    cluster_df['cluster'] = kmeans.fit_predict(cluster_df)\n",
    "    inertia = kmeans.inertia_\n",
    "    labels = kmeans.predict(cluster_df[cluster_df.columns[:2]])\n",
    "    centers = kmeans.cluster_centers_\n",
    "\n",
    "    cluster_df.plot.scatter(x='Lat',y='Long', c=labels, s=50, cmap='spring', figsize=(40,40))\n",
    "    plt.scatter(centers[:, 0], centers[:, 1], c='black', s= 200, alpha=.5)\n",
    "\n",
    "    plt.show()\n",
    "    \n",
    "    centers_df = pd.DataFrame(data=centers, columns=[\"Lat\", \"Long\"])#, \"delete\"])\n",
    "    centers_df = centers_df.iloc[:,:2]\n",
    "    ln = pd.read_csv('./Irma Storm centered/ATL_17_11_Irma_WWLLN_Locations.txt',header=None,names=[\"Year\",\"Month\",\"Day\",\"Hour\",\"Min\",\"Sec\",\"Lat\",\"Long\",\"Dist_East_West\",\"Dist_North_South\"],low_memory=False,sep=' ')\n",
    "    minLong_, minLat_, maxLong_, maxLat_ = ln['Long'].min(), ln['Lat'].min(), ln['Long'].max(), ln['Lat'].max()\n",
    "    buffer = 10\n",
    "    \n",
    "    plt.figure(figsize=(20,20))\n",
    "    m = Basemap(llcrnrlon=minLong_-buffer, llcrnrlat=minLat_-buffer,urcrnrlon=maxLong_+buffer,urcrnrlat=maxLat_+buffer,lon_0=0,lat_0=0)\n",
    "    m.drawmapboundary(fill_color='#A6CAE0', linewidth=0)\n",
    "    m.fillcontinents(color='grey', alpha=0.7, lake_color='grey')\n",
    "    m.drawcoastlines(linewidth=0.1, color=\"white\")\n",
    "\n",
    "    # Plot the lightning data\n",
    "    m.plot(centers_df['Long'], centers_df['Lat'], linestyle='none', marker=\"o\", markersize=75, alpha=0.7, c=\"orange\", markeredgecolor=\"black\", markeredgewidth=1)\n",
    "    plt.title(\"0 minutes\")\n",
    "    plt.savefig(\"./data/test\",bbox_inches='tight')\n"
   ]
  },
  {
   "cell_type": "code",
   "execution_count": null,
   "metadata": {
    "scrolled": false
   },
   "outputs": [],
   "source": [
    "kmeansify(df, 14)"
   ]
  },
  {
   "cell_type": "code",
   "execution_count": null,
   "metadata": {
    "scrolled": false
   },
   "outputs": [],
   "source": [
    "kmeansify(df_center, 14)"
   ]
  },
  {
   "cell_type": "code",
   "execution_count": null,
   "metadata": {
    "scrolled": false
   },
   "outputs": [],
   "source": [
    "kmeansify(df_inner, 14)"
   ]
  },
  {
   "cell_type": "code",
   "execution_count": null,
   "metadata": {
    "scrolled": false
   },
   "outputs": [],
   "source": [
    "kmeansify(df_rainband, 14)"
   ]
  },
  {
   "cell_type": "code",
   "execution_count": null,
   "metadata": {},
   "outputs": [],
   "source": [
    "#DEPRECATED\n",
    "'''#elbow graph for visual estimation of ideal cluster count\n",
    "clusters = range(1,16)\n",
    "\n",
    "kmeans = [KMeans(n_clusters=i) for i in clusters]\n",
    "\n",
    "y = df[['Lat']]\n",
    "x = df[['Long']]\n",
    "\n",
    "score = [kmeans[i].fit(y).score(y) for i in range(len(kmeans))]\n",
    "\n",
    "plt.plot(clusters, score)\n",
    "\n",
    "plt.show()'''\n",
    "\n",
    "'''#kmeans using the set cluster count\n",
    "kmeans = KMeans(n_clusters=4, init='k-means++')\n",
    "cluster_df = coord_df\n",
    "kmeans.fit(cluster_df)\n",
    "cluster_df['cluster'] = kmeans.fit_predict(cluster_df)\n",
    "inertia = kmeans.inertia_\n",
    "labels = kmeans.predict(cluster_df[cluster_df.columns[:2]])\n",
    "centers = kmeans.cluster_centers_\n",
    "\n",
    "cluster_df.plot.scatter(x='Lat',y='Long', c=labels, s=50, cmap='spring', figsize=(20,20))\n",
    "plt.scatter(centers[:, 0], centers[:, 1], c='black', s= 200, alpha=.5)\n",
    "\n",
    "plt.show()'''\n",
    "\n",
    "'''for n_clusters in range(1,16):\n",
    "        kmeans = KMeans(n_clusters=n_clusters, init='k-means++')\n",
    "        kmeans.fit(cluster_df)\n",
    "        inertia = kmeans.inertia_\n",
    "        print(\"Cluster count: \", n_clusters, \"\\tInertia: \", inertia)\n",
    "        '''"
   ]
  },
  {
   "cell_type": "markdown",
   "metadata": {},
   "source": []
  }
 ],
 "metadata": {
  "kernelspec": {
   "display_name": "Python 3",
   "language": "python",
   "name": "python3"
  },
  "language_info": {
   "codemirror_mode": {
    "name": "ipython",
    "version": 3
   },
   "file_extension": ".py",
   "mimetype": "text/x-python",
   "name": "python",
   "nbconvert_exporter": "python",
   "pygments_lexer": "ipython3",
   "version": "3.8.3"
  }
 },
 "nbformat": 4,
 "nbformat_minor": 2
}
