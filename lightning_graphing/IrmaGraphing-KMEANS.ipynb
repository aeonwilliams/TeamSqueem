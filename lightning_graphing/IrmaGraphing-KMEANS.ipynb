{
 "cells": [
  {
   "cell_type": "markdown",
   "metadata": {},
   "source": [
    "<img src=\"../squeemos_blk.png\" width=200 height=200 />"
   ]
  },
  {
   "cell_type": "code",
   "execution_count": null,
   "metadata": {},
   "outputs": [],
   "source": [
    "from IPython.core.display import display, HTML\n",
    "display(HTML(\"<style>.container { width:100% !important; }</style>\")) # makes the notebook fill the whole window\n",
    "\n",
    "import numpy as np\n",
    "import pandas as pd\n",
    "import matplotlib as mpl\n",
    "from matplotlib import pyplot as plt\n",
    "\n",
    "from sklearn.cluster import KMeans\n",
    "from sklearn.metrics import silhouette_score\n",
    "import seaborn as sns; sns.set()\n",
    "import csv\n",
    "\n",
    "from PIL import Image, ImageDraw\n",
    "import os\n",
    "import shutil\n",
    "import glob\n",
    "\n",
    "from mpl_toolkits.basemap import Basemap\n",
    "\n",
    "from BetterMap import CreateMapBackground\n",
    "\n",
    "import math\n",
    "\n",
    "import functools\n",
    "import operator\n",
    "\n",
    "import datetime\n",
    "\n",
    "from pathlib import Path\n",
    "\n",
    "from Utils import *\n",
    "\n",
    "#there is currently a bug in panda's scatter_matrix that produces a warning that has no affect on what I'm doin :)\n",
    "import warnings\n",
    "warnings.filterwarnings(\"ignore\")"
   ]
  },
  {
   "cell_type": "markdown",
   "metadata": {},
   "source": [
    "## Clustering functions"
   ]
  },
  {
   "cell_type": "code",
   "execution_count": null,
   "metadata": {},
   "outputs": [],
   "source": [
    "# Return kmeans cluster centers of the given dataframe\n",
    "def cluster_df(df):\n",
    "    if df.shape[0] > 0:\n",
    "        num_clusters = 5 #TODO: use dbscan for optimal cluster number\n",
    "        if df.shape[0] < num_clusters:\n",
    "            num_clusters = df.shape[0]\n",
    "        kmeans = KMeans(n_clusters=num_clusters, init='k-means++', max_iter=10, algorithm='full')\n",
    "        kmeans.fit(df[['Lat', 'Long']])\n",
    "        df['cluster_label'] = kmeans.fit_predict(df[['Lat', 'Long']])\n",
    "        centers = kmeans.cluster_centers_\n",
    "        return centers\n",
    "    result = np.empty((2,1))\n",
    "    result[:] = np.NaN\n",
    "    return result\n",
    "\n",
    "#These 3 functions finds clustered centers of specific parts of the storm\n",
    "def create_inner_df(df):\n",
    "    centers = []\n",
    "    df_inner_temp = df.copy()\n",
    "    df_inner_temp = df_inner_temp[df_inner_temp['distance'] <= 100]\n",
    "\n",
    "    df_inner = df.copy()\n",
    "    df_inner = df_inner[(df_inner['distance'] <= 100) & (df_inner['segment'] == current_segment)]\n",
    "    centers.append(cluster_df(df_inner))\n",
    "    \n",
    "    #flatten the list\n",
    "    centers = functools.reduce(operator.iconcat, centers, [])\n",
    "    #drop nan\n",
    "    centers = [x for x in centers if str(x) != 'nan']\n",
    "    return centers\n",
    "\n",
    "def create_rainband_df(df):\n",
    "    centers = []\n",
    "    df_rainband_temp = df.copy()\n",
    "    df_rainband_temp = df_rainband_temp[(df_rainband_temp['distance'] >= 200) & (df_rainband_temp['distance'] <= 400)]\n",
    "\n",
    "    df_rainband = df.copy()\n",
    "    df_rainband = df_rainband[(df_rainband['distance'] >= 200) & (df_rainband['distance'] <= 400)]\n",
    "    centers.append(cluster_df(df_rainband))\n",
    "    \n",
    "    #flatten the list\n",
    "    centers = functools.reduce(operator.iconcat, centers, [])\n",
    "    #drop nan\n",
    "    centers = [x for x in centers if str(x) != 'nan']\n",
    "    return centers\n",
    "\n",
    "def create_outer_df(df):\n",
    "    centers = []\n",
    "    df_outer_temp = df.copy()\n",
    "    df_outer_temp = df_outer_temp[(df_outer_temp['distance'] >= 400) & (df_outer_temp['distance'] <= 600)]\n",
    "\n",
    "    df_outer = df.copy()\n",
    "    df_outer = df_outer[(df_outer['distance'] >= 400) & (df_outer['distance'] <= 600)]\n",
    "    centers.append(cluster_df(df_outer))\n",
    "    \n",
    "    #flatten the list\n",
    "    centers = functools.reduce(operator.iconcat, centers, [])\n",
    "    #drop nan\n",
    "    centers = [x for x in centers if str(x) != 'nan']\n",
    "    return centers\n",
    "\n",
    "def segment_df(df, minutes_between):\n",
    "    cluster = 0\n",
    "    df_time = pd.DataFrame()\n",
    "    df_time['segment'] = 0\n",
    "    for x in range(len(df['Month'].unique())):\n",
    "        month = df['Month'].unique()[x]\n",
    "        for y in range(len(df[df['Month'] == df['Month'].unique()[x]]['Day'].unique())):\n",
    "            day = df[df['Month'] == df['Month'].unique()[x]]['Day'].unique()[y]\n",
    "            for z in range(len(df[df['Day'] == df[df['Month'] == df['Month'].unique()[x]]['Day'].unique()[y]]['Hour'].unique())):\n",
    "                hour = df[df['Day'] == df[df['Month'] == df['Month'].unique()[x]]['Day'].unique()[y]]['Hour'].unique()[z]\n",
    "                for w in range(0,60,minutes_between):\n",
    "                    minute = w\n",
    "                    temp = df[(df['Month'] == month) & (df['Day'] == day) & (df['Hour'] == hour) & (df['Min'] >= minute) & (df['Min'] < minute + minutes_between)]\n",
    "                    temp['segment'] = cluster\n",
    "                    df_time = df_time.append(temp, ignore_index=True)\n",
    "                    cluster+=1\n",
    "    return df_time"
   ]
  },
  {
   "cell_type": "markdown",
   "metadata": {},
   "source": [
    "## Data loading and verification"
   ]
  },
  {
   "cell_type": "code",
   "execution_count": null,
   "metadata": {
    "scrolled": true
   },
   "outputs": [],
   "source": [
    "#load in the data\n",
    "df = pd.read_csv('./Irma Storm centered/ATL_17_11_Irma_WWLLN_Locations.txt',header=None,names=[\"Year\",\"Month\",\"Day\",\"Hour\",\"Min\",\"Sec\",\"Lat\",\"Long\",\"Dist_East_West\",\"Dist_North_South\"],low_memory=False, delim_whitespace=True)\n",
    "df.dropna(axis=0,how='any',subset=['Lat','Long'],inplace=True)\n",
    "\n",
    "df_center = pd.read_csv('./Irma Storm centered/ATL_17_11_Irma_Reduced_Trackfile.txt',header=None,names=[\"Year\",\"Month\",\"Day\",\"Hour\",\"Lat\",\"Long\",\"Min_Pressure\",\"Max_Winds\",\"Unused\"],low_memory=False,sep='\\t')\n",
    "df_center.dropna(axis=0,how='any',subset=['Lat','Long'],inplace=True)"
   ]
  },
  {
   "cell_type": "code",
   "execution_count": null,
   "metadata": {},
   "outputs": [],
   "source": [
    "display(df.info())\n",
    "display(df_center.info())"
   ]
  },
  {
   "cell_type": "markdown",
   "metadata": {},
   "source": [
    "## Proof of concept/test"
   ]
  },
  {
   "cell_type": "code",
   "execution_count": null,
   "metadata": {},
   "outputs": [],
   "source": [
    "def test():\n",
    "    #make a dataframe that denotes clusters based on a time interval - a new cluster every x amount of minutes\n",
    "    minutes_between = 30\n",
    "\n",
    "    df_time = segment_df(df, minutes_between)\n",
    "    df_time['distance'] = np.sqrt((df_time['Dist_East_West'] * df_time['Dist_East_West']) + \n",
    "                                    (df_time['Dist_North_South'] * df_time['Dist_North_South']))\n",
    "    df_time.info()\n",
    "\n",
    "    #apply date restriction\n",
    "    year, month, day, hour, minute = 2017, 9, 7, 16, 30\n",
    "\n",
    "    temp = df_time[(df_time['Year'] == year) &\n",
    "                       (df_time['Month'] == month) &\n",
    "                       (df_time['Day'] == day) &\n",
    "                       (df_time['Hour'] == hour) &\n",
    "                       (df_time['Min'] == minute)]\n",
    "    temp.info()\n",
    "\n",
    "    inner_clusters = create_inner_df(temp)\n",
    "    rainband_clusters = create_rainband_df(temp)\n",
    "    outer_clusters = create_outer_df(temp)\n",
    "\n",
    "    inner_centers = pd.DataFrame(data=inner_clusters, columns=[\"Lat\", \"Long\"])\n",
    "    rainband_centers = pd.DataFrame(data=rainband_clusters, columns=[\"Lat\", \"Long\"])\n",
    "    outer_centers = pd.DataFrame(data=outer_clusters, columns=[\"Lat\", \"Long\"])\n",
    "\n",
    "    ln = pd.read_csv('./Irma Storm centered/ATL_17_11_Irma_WWLLN_Locations.txt',header=None,names=[\"Year\",\"Month\",\"Day\",\"Hour\",\"Min\",\"Sec\",\"Lat\",\"Long\",\"Dist_East_West\",\"Dist_North_South\"],low_memory=False,sep=' ')\n",
    "    minLong_, minLat_, maxLong_, maxLat_ = ln['Long'].min(), ln['Lat'].min(), ln['Long'].max(), ln['Lat'].max()\n",
    "    buffer = 10\n",
    "\n",
    "    plt.figure(figsize=(20,20))\n",
    "    m = Basemap(llcrnrlon=minLong_-buffer, llcrnrlat=minLat_-buffer,urcrnrlon=maxLong_+buffer,urcrnrlat=maxLat_+buffer,lon_0=0,lat_0=0)\n",
    "    m.drawmapboundary(fill_color='#A6CAE0', linewidth=0)\n",
    "    m.fillcontinents(color='grey', alpha=0.7, lake_color='grey')\n",
    "    m.drawcoastlines(linewidth=0.1, color=\"white\")\n",
    "\n",
    "    # Plot the lightning data\n",
    "    m.plot(temp['Long'], temp['Lat'], linestyle='none', marker=\"o\", markersize=15, alpha=0.3, c=\"yellow\", markeredgecolor=\"black\", markeredgewidth=1)\n",
    "    m.plot(inner_centers['Long'], inner_centers['Lat'], linestyle='none', marker=\".\", markersize=8, alpha=0.3, c=\"red\", markeredgecolor=\"black\", markeredgewidth=1)\n",
    "    m.plot(rainband_centers['Long'], rainband_centers['Lat'], linestyle='none', marker=\".\", markersize=8, alpha=0.3, c=\"green\", markeredgecolor=\"black\", markeredgewidth=1)\n",
    "    m.plot(outer_centers['Long'], outer_centers['Lat'], linestyle='none', marker=\".\", markersize=8, alpha=0.3, c=\"blue\", markeredgecolor=\"black\", markeredgewidth=1)\n",
    "\n",
    "    plt.show()"
   ]
  },
  {
   "cell_type": "code",
   "execution_count": null,
   "metadata": {
    "scrolled": false
   },
   "outputs": [],
   "source": [
    "#test()"
   ]
  },
  {
   "cell_type": "markdown",
   "metadata": {},
   "source": [
    "## Clustering to create a gif"
   ]
  },
  {
   "cell_type": "code",
   "execution_count": null,
   "metadata": {
    "scrolled": false
   },
   "outputs": [],
   "source": [
    "minutes_between = 30\n",
    "\n",
    "ln = pd.read_csv('./Irma Storm centered/ATL_17_11_Irma_WWLLN_Locations.txt',header=None,names=[\"Year\",\"Month\",\"Day\",\"Hour\",\"Min\",\"Sec\",\"Lat\",\"Long\",\"Dist_East_West\",\"Dist_North_South\"],low_memory=False,sep=' ')\n",
    "minLong_, minLat_, maxLong_, maxLat_ = ln['Long'].min(), ln['Lat'].min(), ln['Long'].max(), ln['Lat'].max()\n",
    "buffer = 10\n",
    "\n",
    "df_time = segment_df(df, minutes_between)\n",
    "df_time['distance'] = np.sqrt((df_time['Dist_East_West'] * df_time['Dist_East_West']) + \n",
    "                                (df_time['Dist_North_South'] * df_time['Dist_North_South']))\n",
    "display(df_time.info())\n",
    "df_time.head(5)"
   ]
  },
  {
   "cell_type": "code",
   "execution_count": null,
   "metadata": {
    "scrolled": false
   },
   "outputs": [],
   "source": [
    "%%time\n",
    "\n",
    "year = 2017\n",
    "edges = (minLong_,maxLong_,minLat_,maxLat_)\n",
    "di = './data/kmeans/final_gif/'\n",
    "\n",
    "end = df_time['segment'].max()\n",
    "if math.isnan(end):\n",
    "    end = 0\n",
    "for current_segment in range(1, int(end)):\n",
    "    temp = df_time[(df_time['segment'] == current_segment)]\n",
    "    if(temp.shape[0] > 0):\n",
    "        inner_clusters = create_inner_df(temp)\n",
    "        inner_clusters = [x for x in inner_clusters if str(x[0]) != 'nan']\n",
    "        rainband_clusters = create_rainband_df(temp)\n",
    "        rainband_clusters = [x for x in rainband_clusters if str(x[0]) != 'nan']\n",
    "        outer_clusters = create_outer_df(temp)\n",
    "        outer_clusters = [x for x in outer_clusters if str(x[0]) != 'nan']\n",
    "\n",
    "        inner_centers = pd.DataFrame(data=inner_clusters, columns=[\"Lat\", \"Long\"])\n",
    "        rainband_centers = pd.DataFrame(data=rainband_clusters, columns=[\"Lat\", \"Long\"])\n",
    "        outer_centers = pd.DataFrame(data=outer_clusters, columns=[\"Lat\", \"Long\"])\n",
    "\n",
    "        fig = plt.figure(figsize=(30,15))\n",
    "        m = CreateMapBackground(edges,buffer)\n",
    "\n",
    "        # Plot the lightning data\n",
    "        m.plot(temp['Long'], temp['Lat'], linestyle='none', marker=\"o\", markersize=15, alpha=0.3, c=\"yellow\", markeredgecolor=\"black\", markeredgewidth=1)\n",
    "        m.plot(inner_centers['Long'], inner_centers['Lat'], linestyle='none', marker=\".\", markersize=8, alpha=0.3, c=\"red\", markeredgecolor=\"black\", markeredgewidth=1)\n",
    "        m.plot(rainband_centers['Long'], rainband_centers['Lat'], linestyle='none', marker=\".\", markersize=8, alpha=0.3, c=\"green\", markeredgecolor=\"black\", markeredgewidth=1)\n",
    "        m.plot(outer_centers['Long'], outer_centers['Lat'], linestyle='none', marker=\".\", markersize=8, alpha=0.3, c=\"blue\", markeredgecolor=\"black\", markeredgewidth=1)\n",
    "        \n",
    "        month, day, hour, minute = int(temp['Month'].iloc[0]), int(temp['Day'].iloc[0]), int(temp['Hour'].iloc[0]), int(temp['Min'].iloc[0])\n",
    "        #Save and close the figure\n",
    "        plt.savefig('{}{}_{}_{}_{}_{}'.format(di,year,month,day,hour,minute),bbox_inches='tight')\n",
    "        plt.close(fig)"
   ]
  },
  {
   "cell_type": "code",
   "execution_count": null,
   "metadata": {},
   "outputs": [],
   "source": [
    "MakeGif('./data/kmeans/final_gif', './data/kmeans/', 'kmeans', 100, 'png')"
   ]
  },
  {
   "cell_type": "code",
   "execution_count": null,
   "metadata": {},
   "outputs": [],
   "source": [
    "ClearDir('./data/kmeans/final_gif')"
   ]
  },
  {
   "cell_type": "code",
   "execution_count": null,
   "metadata": {},
   "outputs": [],
   "source": [
    "#DEPRECATED\n",
    "#elbow graph for visual estimation of ideal cluster count\n",
    "# clusters = range(1,16)\n",
    "\n",
    "# kmeans = [KMeans(n_clusters=i) for i in clusters]\n",
    "\n",
    "# y = df[['Lat']]\n",
    "# x = df[['Long']]\n",
    "\n",
    "# score = [kmeans[i].fit(y).score(y) for i in range(len(kmeans))]\n",
    "\n",
    "# plt.plot(clusters, score)\n",
    "\n",
    "# plt.show()\n",
    "\n",
    "# #kmeans using the set cluster count\n",
    "# kmeans = KMeans(n_clusters=4, init='k-means++')\n",
    "# cluster_df = coord_df\n",
    "# kmeans.fit(cluster_df)\n",
    "# cluster_df['segment'] = kmeans.fit_predict(cluster_df)\n",
    "# inertia = kmeans.inertia_\n",
    "# labels = kmeans.predict(cluster_df[cluster_df.columns[:2]])\n",
    "# centers = kmeans.cluster_centers_\n",
    "\n",
    "# cluster_df.plot.scatter(x='Lat',y='Long', c=labels, s=50, cmap='spring', figsize=(20,20))\n",
    "# plt.scatter(centers[:, 0], centers[:, 1], c='black', s= 200, alpha=.5)\n",
    "\n",
    "# plt.show()\n",
    "\n",
    "# for n_clusters in range(1,16):\n",
    "#     kmeans = KMeans(n_clusters=n_clusters, init='k-means++')\n",
    "#     kmeans.fit(cluster_df)\n",
    "#     inertia = kmeans.inertia_\n",
    "#     print(\"Cluster count: \", n_clusters, \"\\tInertia: \", inertia)"
   ]
  }
 ],
 "metadata": {
  "kernelspec": {
   "display_name": "Python 3",
   "language": "python",
   "name": "python3"
  },
  "language_info": {
   "codemirror_mode": {
    "name": "ipython",
    "version": 3
   },
   "file_extension": ".py",
   "mimetype": "text/x-python",
   "name": "python",
   "nbconvert_exporter": "python",
   "pygments_lexer": "ipython3",
   "version": "3.7.4"
  }
 },
 "nbformat": 4,
 "nbformat_minor": 2
}
