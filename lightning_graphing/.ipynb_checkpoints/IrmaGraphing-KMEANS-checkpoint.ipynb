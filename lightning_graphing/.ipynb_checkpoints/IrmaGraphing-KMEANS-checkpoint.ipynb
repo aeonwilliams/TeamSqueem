{
 "cells": [
  {
   "cell_type": "markdown",
   "metadata": {},
   "source": [
    "<img src=\"../squeemos_blk.png\" width=200 height=200 />"
   ]
  },
  {
   "cell_type": "code",
   "execution_count": 1,
   "metadata": {},
   "outputs": [
    {
     "data": {
      "text/html": [
       "<style>.container { width:100% !important; }</style>"
      ],
      "text/plain": [
       "<IPython.core.display.HTML object>"
      ]
     },
     "metadata": {},
     "output_type": "display_data"
    }
   ],
   "source": [
    "from IPython.core.display import display, HTML\n",
    "display(HTML(\"<style>.container { width:100% !important; }</style>\")) # makes the notebook fill the whole window\n",
    "\n",
    "import numpy as np\n",
    "import pandas as pd\n",
    "import matplotlib as mpl\n",
    "from matplotlib import pyplot as plt\n",
    "\n",
    "from sklearn.cluster import KMeans\n",
    "from sklearn.metrics import silhouette_score\n",
    "import seaborn as sns; sns.set()\n",
    "import csv\n",
    "\n",
    "from PIL import Image, ImageDraw\n",
    "import os\n",
    "import shutil\n",
    "\n",
    "from mpl_toolkits.basemap import Basemap\n",
    "\n",
    "from BetterMap import CreateMapBackground\n",
    "from MakeGif import MakeGif\n",
    "\n",
    "import math\n",
    "\n",
    "import functools\n",
    "import operator\n",
    "\n",
    "import datetime\n",
    "\n",
    "from pathlib import Path\n",
    "\n",
    "#there is currently a bug in panda's scatter_matrix that produces a warning that has no affect on what I'm doin :)\n",
    "import warnings\n",
    "warnings.filterwarnings(\"ignore\")"
   ]
  },
  {
   "cell_type": "markdown",
   "metadata": {},
   "source": [
    "## Clustering functions"
   ]
  },
  {
   "cell_type": "code",
   "execution_count": 2,
   "metadata": {},
   "outputs": [],
   "source": [
    "# Return kmeans cluster centers of the given dataframe\n",
    "def cluster_df(df):\n",
    "    if df.shape[0] > 0:\n",
    "        num_clusters = 5\n",
    "        if df.shape[0] < num_clusters:\n",
    "            num_clusters = df.shape[0]\n",
    "        kmeans = KMeans(n_clusters=num_clusters, init='k-means++', max_iter=10, algorithm='full')\n",
    "        kmeans.fit(df[['Lat', 'Long']])\n",
    "        df['cluster_label'] = kmeans.fit_predict(df[['Lat', 'Long']])\n",
    "        centers = kmeans.cluster_centers_\n",
    "        return centers\n",
    "    result = np.empty((2,1))\n",
    "    result[:] = np.NaN\n",
    "    return result\n",
    "\n",
    "#These 3 functions finds clustered centers of specific parts of the storm\n",
    "def create_inner_df(df):\n",
    "    centers = []\n",
    "    df_inner_temp = df.copy()\n",
    "    df_inner_temp = df_inner_temp[df_inner_temp['distance'] <= 100]\n",
    "    end = df_inner_temp['segment'].max()\n",
    "    if math.isnan(end):\n",
    "        end = 0\n",
    "    for current_segment in range(1,int(end)):\n",
    "        df_inner = df.copy()\n",
    "        df_inner = df_inner[(df_inner['distance'] <= 100) & (df_inner['segment'] == current_segment)]\n",
    "        centers.append(cluster_df(df_inner))\n",
    "    \n",
    "    #flatten the list\n",
    "    centers = functools.reduce(operator.iconcat, centers, [])\n",
    "    #drop nan\n",
    "    centers = [x for x in centers if str(x) != 'nan']\n",
    "    return centers\n",
    "\n",
    "def create_rainband_df(df):\n",
    "    centers = []\n",
    "    df_rainband_temp = df.copy()\n",
    "    df_rainband_temp = df_rainband_temp[(df_rainband_temp['distance'] >= 200) & (df_rainband_temp['distance'] <= 400)]\n",
    "    end = df_rainband_temp['segment'].max()\n",
    "    if math.isnan(end):\n",
    "        end = 0\n",
    "    for current_segment in range(1,int(end)):\n",
    "        df_rainband = df.copy()\n",
    "        df_rainband = df_rainband[(df_rainband['distance'] >= 200) & (df_rainband['distance'] <= 400)]\n",
    "        centers.append(cluster_df(df_rainband))\n",
    "    \n",
    "    #flatten the list\n",
    "    centers = functools.reduce(operator.iconcat, centers, [])\n",
    "    #drop nan\n",
    "    centers = [x for x in centers if str(x) != 'nan']\n",
    "    return centers\n",
    "\n",
    "def create_outer_df(df):\n",
    "    centers = []\n",
    "    df_outer_temp = df.copy()\n",
    "    df_outer_temp = df_outer_temp[(df_outer_temp['distance'] >= 400) & (df_outer_temp['distance'] <= 600)]\n",
    "    end = df_outer_temp['segment'].max()\n",
    "    if math.isnan(end):\n",
    "        end = 0\n",
    "    for current_segment in range(1,int(end)):\n",
    "        df_outer = df.copy()\n",
    "        df_outer = df_outer[(df_outer['distance'] >= 400) & (df_outer['distance'] <= 600)]\n",
    "        centers.append(cluster_df(df_outer))\n",
    "    \n",
    "    #flatten the list\n",
    "    centers = functools.reduce(operator.iconcat, centers, [])\n",
    "    #drop nan\n",
    "    centers = [x for x in centers if str(x) != 'nan']\n",
    "    return centers\n",
    "\n",
    "def segment_df(df, minutes_between):\n",
    "    cluster = 0\n",
    "    df_time = pd.DataFrame()\n",
    "    df_time['segment'] = 0\n",
    "    for x in range(len(df['Month'].unique())):\n",
    "        month = df['Month'].unique()[x]\n",
    "        for y in range(len(df[df['Month'] == df['Month'].unique()[x]]['Day'].unique())):\n",
    "            day = df[df['Month'] == df['Month'].unique()[x]]['Day'].unique()[y]\n",
    "            for z in range(len(df[df['Day'] == df[df['Month'] == df['Month'].unique()[x]]['Day'].unique()[y]]['Hour'].unique())):\n",
    "                hour = df[df['Day'] == df[df['Month'] == df['Month'].unique()[x]]['Day'].unique()[y]]['Hour'].unique()[z]\n",
    "                for w in range(0,60,minutes_between):\n",
    "                    minute = w\n",
    "                    temp = df[(df['Month'] == month) & (df['Day'] == day) & (df['Hour'] == hour) & (df['Min'] >= minute) & (df['Min'] <= minute + minutes_between)]\n",
    "                    temp['segment'] = cluster\n",
    "                    df_time = df_time.append(temp, ignore_index=True)\n",
    "                    cluster+=1\n",
    "    return df_time"
   ]
  },
  {
   "cell_type": "markdown",
   "metadata": {},
   "source": [
    "## Data loading and verification"
   ]
  },
  {
   "cell_type": "code",
   "execution_count": 3,
   "metadata": {
    "scrolled": true
   },
   "outputs": [],
   "source": [
    "#load in the data\n",
    "df = pd.read_csv('./Irma Storm centered/ATL_17_11_Irma_WWLLN_Locations.txt',header=None,names=[\"Year\",\"Month\",\"Day\",\"Hour\",\"Min\",\"Sec\",\"Lat\",\"Long\",\"Dist_East_West\",\"Dist_North_South\"],low_memory=False, delim_whitespace=True)\n",
    "df.dropna(axis=0,how='any',subset=['Lat','Long'],inplace=True)\n",
    "\n",
    "df_center = pd.read_csv('./Irma Storm centered/ATL_17_11_Irma_Reduced_Trackfile.txt',header=None,names=[\"Year\",\"Month\",\"Day\",\"Hour\",\"Lat\",\"Long\",\"Min_Pressure\",\"Max_Winds\",\"Unused\"],low_memory=False,sep='\\t')\n",
    "df_center.dropna(axis=0,how='any',subset=['Lat','Long'],inplace=True)"
   ]
  },
  {
   "cell_type": "code",
   "execution_count": 4,
   "metadata": {},
   "outputs": [
    {
     "name": "stdout",
     "output_type": "stream",
     "text": [
      "<class 'pandas.core.frame.DataFrame'>\n",
      "Int64Index: 226789 entries, 0 to 226788\n",
      "Data columns (total 10 columns):\n",
      "Year                226789 non-null int64\n",
      "Month               226789 non-null int64\n",
      "Day                 226789 non-null int64\n",
      "Hour                226789 non-null int64\n",
      "Min                 226789 non-null int64\n",
      "Sec                 226789 non-null float64\n",
      "Lat                 226789 non-null float64\n",
      "Long                226789 non-null float64\n",
      "Dist_East_West      226789 non-null float64\n",
      "Dist_North_South    226789 non-null float64\n",
      "dtypes: float64(5), int64(5)\n",
      "memory usage: 19.0 MB\n"
     ]
    },
    {
     "data": {
      "text/plain": [
       "None"
      ]
     },
     "metadata": {},
     "output_type": "display_data"
    },
    {
     "name": "stdout",
     "output_type": "stream",
     "text": [
      "<class 'pandas.core.frame.DataFrame'>\n",
      "Int64Index: 61 entries, 0 to 60\n",
      "Data columns (total 9 columns):\n",
      "Year            61 non-null int64\n",
      "Month           61 non-null int64\n",
      "Day             61 non-null int64\n",
      "Hour            61 non-null int64\n",
      "Lat             61 non-null float64\n",
      "Long            61 non-null float64\n",
      "Min_Pressure    61 non-null int64\n",
      "Max_Winds       61 non-null int64\n",
      "Unused          61 non-null int64\n",
      "dtypes: float64(2), int64(7)\n",
      "memory usage: 4.8 KB\n"
     ]
    },
    {
     "data": {
      "text/plain": [
       "None"
      ]
     },
     "metadata": {},
     "output_type": "display_data"
    }
   ],
   "source": [
    "display(df.info())\n",
    "display(df_center.info())"
   ]
  },
  {
   "cell_type": "markdown",
   "metadata": {},
   "source": [
    "## Proof of concept/test"
   ]
  },
  {
   "cell_type": "code",
   "execution_count": 5,
   "metadata": {},
   "outputs": [],
   "source": [
    "def test():\n",
    "    #make a dataframe that denotes clusters based on a time interval - a new cluster every x amount of minutes\n",
    "    minutes_between = 30\n",
    "\n",
    "    df_time = segment_df(df, minutes_between)\n",
    "    df_time['distance'] = np.sqrt((df_time['Dist_East_West'] * df_time['Dist_East_West']) + \n",
    "                                    (df_time['Dist_North_South'] * df_time['Dist_North_South']))\n",
    "    df_time.info()\n",
    "\n",
    "    #apply date restriction\n",
    "    year, month, day, hour, minute = 2017, 9, 7, 16, 0\n",
    "\n",
    "    temp = df_time[(df_time['Year'] == year) &\n",
    "                       (df_time['Month'] == month) &\n",
    "                       (df_time['Day'] == day) &\n",
    "                       (df_time['Hour'] == hour) &\n",
    "                       (df_time['Min'] == minute)]\n",
    "    temp.info()\n",
    "\n",
    "    inner_clusters = create_inner_df(temp)\n",
    "    rainband_clusters = create_rainband_df(temp)\n",
    "    outer_clusters = create_outer_df(temp)\n",
    "\n",
    "    inner_centers = pd.DataFrame(data=inner_clusters, columns=[\"Lat\", \"Long\"])\n",
    "    rainband_centers = pd.DataFrame(data=rainband_clusters, columns=[\"Lat\", \"Long\"])\n",
    "    outer_centers = pd.DataFrame(data=outer_clusters, columns=[\"Lat\", \"Long\"])\n",
    "\n",
    "    ln = pd.read_csv('./Irma Storm centered/ATL_17_11_Irma_WWLLN_Locations.txt',header=None,names=[\"Year\",\"Month\",\"Day\",\"Hour\",\"Min\",\"Sec\",\"Lat\",\"Long\",\"Dist_East_West\",\"Dist_North_South\"],low_memory=False,sep=' ')\n",
    "    minLong_, minLat_, maxLong_, maxLat_ = ln['Long'].min(), ln['Lat'].min(), ln['Long'].max(), ln['Lat'].max()\n",
    "    buffer = 10\n",
    "\n",
    "    plt.figure(figsize=(20,20))\n",
    "    m = Basemap(llcrnrlon=minLong_-buffer, llcrnrlat=minLat_-buffer,urcrnrlon=maxLong_+buffer,urcrnrlat=maxLat_+buffer,lon_0=0,lat_0=0)\n",
    "    m.drawmapboundary(fill_color='#A6CAE0', linewidth=0)\n",
    "    m.fillcontinents(color='grey', alpha=0.7, lake_color='grey')\n",
    "    m.drawcoastlines(linewidth=0.1, color=\"white\")\n",
    "\n",
    "    # Plot the lightning data\n",
    "    m.plot(temp['Long'], temp['Lat'], linestyle='none', marker=\"o\", markersize=15, alpha=0.3, c=\"yellow\", markeredgecolor=\"black\", markeredgewidth=1)\n",
    "    m.plot(inner_centers['Long'], inner_centers['Lat'], linestyle='none', marker=\".\", markersize=8, alpha=0.3, c=\"red\", markeredgecolor=\"black\", markeredgewidth=1)\n",
    "    m.plot(rainband_centers['Long'], rainband_centers['Lat'], linestyle='none', marker=\".\", markersize=8, alpha=0.3, c=\"green\", markeredgecolor=\"black\", markeredgewidth=1)\n",
    "    m.plot(outer_centers['Long'], outer_centers['Lat'], linestyle='none', marker=\".\", markersize=8, alpha=0.3, c=\"blue\", markeredgecolor=\"black\", markeredgewidth=1)\n",
    "\n",
    "    plt.show()"
   ]
  },
  {
   "cell_type": "code",
   "execution_count": 6,
   "metadata": {
    "scrolled": false
   },
   "outputs": [
    {
     "name": "stdout",
     "output_type": "stream",
     "text": [
      "<class 'pandas.core.frame.DataFrame'>\n",
      "RangeIndex: 230720 entries, 0 to 230719\n",
      "Data columns (total 12 columns):\n",
      "Day                 230720 non-null float64\n",
      "Dist_East_West      230720 non-null float64\n",
      "Dist_North_South    230720 non-null float64\n",
      "Hour                230720 non-null float64\n",
      "Lat                 230720 non-null float64\n",
      "Long                230720 non-null float64\n",
      "Min                 230720 non-null float64\n",
      "Month               230720 non-null float64\n",
      "Sec                 230720 non-null float64\n",
      "Year                230720 non-null float64\n",
      "segment             230720 non-null int64\n",
      "distance            230720 non-null float64\n",
      "dtypes: float64(11), int64(1)\n",
      "memory usage: 21.1 MB\n",
      "<class 'pandas.core.frame.DataFrame'>\n",
      "Int64Index: 18 entries, 33935 to 33952\n",
      "Data columns (total 12 columns):\n",
      "Day                 18 non-null float64\n",
      "Dist_East_West      18 non-null float64\n",
      "Dist_North_South    18 non-null float64\n",
      "Hour                18 non-null float64\n",
      "Lat                 18 non-null float64\n",
      "Long                18 non-null float64\n",
      "Min                 18 non-null float64\n",
      "Month               18 non-null float64\n",
      "Sec                 18 non-null float64\n",
      "Year                18 non-null float64\n",
      "segment             18 non-null int64\n",
      "distance            18 non-null float64\n",
      "dtypes: float64(11), int64(1)\n",
      "memory usage: 1.8 KB\n"
     ]
    },
    {
     "data": {
      "image/png": "[encoded data removed]",
      "text/plain": [
       "<Figure size 1440x1440 with 1 Axes>"
      ]
     },
     "metadata": {},
     "output_type": "display_data"
    }
   ],
   "source": [
    "test()"
   ]
  },
  {
   "cell_type": "markdown",
   "metadata": {},
   "source": [
    "## Clustering to create a gif"
   ]
  },
  {
   "cell_type": "code",
   "execution_count": 7,
   "metadata": {
    "scrolled": false
   },
   "outputs": [
    {
     "name": "stdout",
     "output_type": "stream",
     "text": [
      "<class 'pandas.core.frame.DataFrame'>\n",
      "RangeIndex: 230720 entries, 0 to 230719\n",
      "Data columns (total 12 columns):\n",
      "Day                 230720 non-null float64\n",
      "Dist_East_West      230720 non-null float64\n",
      "Dist_North_South    230720 non-null float64\n",
      "Hour                230720 non-null float64\n",
      "Lat                 230720 non-null float64\n",
      "Long                230720 non-null float64\n",
      "Min                 230720 non-null float64\n",
      "Month               230720 non-null float64\n",
      "Sec                 230720 non-null float64\n",
      "Year                230720 non-null float64\n",
      "segment             230720 non-null int64\n",
      "distance            230720 non-null float64\n",
      "dtypes: float64(11), int64(1)\n",
      "memory usage: 21.1 MB\n"
     ]
    },
    {
     "data": {
      "text/plain": [
       "None"
      ]
     },
     "metadata": {},
     "output_type": "display_data"
    }
   ],
   "source": [
    "minutes_between = 30\n",
    "\n",
    "ln = pd.read_csv('./Irma Storm centered/ATL_17_11_Irma_WWLLN_Locations.txt',header=None,names=[\"Year\",\"Month\",\"Day\",\"Hour\",\"Min\",\"Sec\",\"Lat\",\"Long\",\"Dist_East_West\",\"Dist_North_South\"],low_memory=False,sep=' ')\n",
    "minLong_, minLat_, maxLong_, maxLat_ = ln['Long'].min(), ln['Lat'].min(), ln['Long'].max(), ln['Lat'].max()\n",
    "buffer = 10\n",
    "\n",
    "df_time = segment_df(df, minutes_between)\n",
    "df_time['distance'] = np.sqrt((df_time['Dist_East_West'] * df_time['Dist_East_West']) + \n",
    "                                (df_time['Dist_North_South'] * df_time['Dist_North_South']))\n",
    "display(df_time.info())"
   ]
  },
  {
   "cell_type": "code",
   "execution_count": 8,
   "metadata": {
    "scrolled": false
   },
   "outputs": [
    {
     "name": "stdout",
     "output_type": "stream",
     "text": [
      "Wall time: 1.08 s\n"
     ]
    }
   ],
   "source": [
    "%%time\n",
    "\n",
    "year = 2017\n",
    "edges = (minLong_,maxLong_,minLat_,maxLat_)\n",
    "di = './data/kmeans/final_gif/'\n",
    "\n",
    "end = df_time['segment'].max()\n",
    "if math.isnan(end):\n",
    "    end = 0\n",
    "for current_segment in range(1,int(end)):\n",
    "    temp = df_time[(df_time['segment'] == current_segment)]\n",
    "    if(temp.shape[0] > 0 and False):\n",
    "        inner_clusters = create_inner_df(temp)\n",
    "        inner_clusters = [x for x in inner_clusters if str(x[0]) != 'nan']\n",
    "        rainband_clusters = create_rainband_df(temp)\n",
    "        rainband_clusters = [x for x in rainband_clusters if str(x[0]) != 'nan']\n",
    "        outer_clusters = create_outer_df(temp)\n",
    "        outer_clusters = [x for x in outer_clusters if str(x[0]) != 'nan']\n",
    "\n",
    "        inner_centers = pd.DataFrame(data=inner_clusters, columns=[\"Lat\", \"Long\"])\n",
    "        rainband_centers = pd.DataFrame(data=rainband_clusters, columns=[\"Lat\", \"Long\"])\n",
    "        outer_centers = pd.DataFrame(data=outer_clusters, columns=[\"Lat\", \"Long\"])\n",
    "\n",
    "        fig = plt.figure(figsize=(30,15))\n",
    "        m = CreateMapBackground(edges,buffer)\n",
    "\n",
    "        # Plot the lightning data\n",
    "        m.plot(temp['Long'], temp['Lat'], linestyle='none', marker=\"o\", markersize=15, alpha=0.3, c=\"yellow\", markeredgecolor=\"black\", markeredgewidth=1)\n",
    "        m.plot(inner_centers['Long'], inner_centers['Lat'], linestyle='none', marker=\".\", markersize=8, alpha=0.3, c=\"red\", markeredgecolor=\"black\", markeredgewidth=1)\n",
    "        m.plot(rainband_centers['Long'], rainband_centers['Lat'], linestyle='none', marker=\".\", markersize=8, alpha=0.3, c=\"green\", markeredgecolor=\"black\", markeredgewidth=1)\n",
    "        m.plot(outer_centers['Long'], outer_centers['Lat'], linestyle='none', marker=\".\", markersize=8, alpha=0.3, c=\"blue\", markeredgecolor=\"black\", markeredgewidth=1)\n",
    "        \n",
    "        month, day, hour, minute = int(temp['Month'].iloc[0]), int(temp['Day'].iloc[0]), int(temp['Hour'].iloc[0]), int(temp['Min'].iloc[0])\n",
    "        #Save and close the figure\n",
    "        plt.savefig('{}{}_{}_{}_{}_{}'.format(di,year,month,day,hour,minute),bbox_inches='tight')\n",
    "        plt.close(fig)"
   ]
  },
  {
   "cell_type": "code",
   "execution_count": 9,
   "metadata": {},
   "outputs": [
    {
     "ename": "PermissionError",
     "evalue": "[Errno 13] Permission denied: './data/kmeans//M2_kmeans.gif'",
     "output_type": "error",
     "traceback": [
      "\u001b[1;31m---------------------------------------------------------------------------\u001b[0m",
      "\u001b[1;31mPermissionError\u001b[0m                           Traceback (most recent call last)",
      "\u001b[1;32m<ipython-input-9-037d280bdd5a>\u001b[0m in \u001b[0;36m<module>\u001b[1;34m\u001b[0m\n\u001b[1;32m----> 1\u001b[1;33m \u001b[0mMakeGif\u001b[0m\u001b[1;33m(\u001b[0m\u001b[1;34m'./data/kmeans/final_gif'\u001b[0m\u001b[1;33m,\u001b[0m \u001b[1;34m'./data/kmeans/'\u001b[0m\u001b[1;33m,\u001b[0m \u001b[1;34m'M2_kmeans'\u001b[0m\u001b[1;33m,\u001b[0m \u001b[1;36m100\u001b[0m\u001b[1;33m,\u001b[0m \u001b[1;34m'png'\u001b[0m\u001b[1;33m)\u001b[0m\u001b[1;33m\u001b[0m\u001b[1;33m\u001b[0m\u001b[0m\n\u001b[0m",
      "\u001b[1;32m~\\Documents\\School\\New folder\\TeamSqueem\\lightning_graphing\\MakeGif.py\u001b[0m in \u001b[0;36mMakeGif\u001b[1;34m(source_dir, out_dir, gif_name, duration, file_type)\u001b[0m\n\u001b[0;32m     37\u001b[0m \u001b[1;33m\u001b[0m\u001b[0m\n\u001b[0;32m     38\u001b[0m     \u001b[1;32mif\u001b[0m\u001b[1;33m(\u001b[0m\u001b[0mlen\u001b[0m\u001b[1;33m(\u001b[0m\u001b[0mimages\u001b[0m\u001b[1;33m)\u001b[0m \u001b[1;33m>\u001b[0m \u001b[1;36m0\u001b[0m\u001b[1;33m)\u001b[0m\u001b[1;33m:\u001b[0m\u001b[1;33m\u001b[0m\u001b[1;33m\u001b[0m\u001b[0m\n\u001b[1;32m---> 39\u001b[1;33m         \u001b[0mimages\u001b[0m\u001b[1;33m[\u001b[0m\u001b[1;36m0\u001b[0m\u001b[1;33m]\u001b[0m\u001b[1;33m.\u001b[0m\u001b[0msave\u001b[0m\u001b[1;33m(\u001b[0m\u001b[0mout_dir\u001b[0m \u001b[1;33m+\u001b[0m \u001b[1;34m'/'\u001b[0m \u001b[1;33m+\u001b[0m \u001b[0mgif_name\u001b[0m \u001b[1;33m+\u001b[0m \u001b[1;34m'.gif'\u001b[0m\u001b[1;33m,\u001b[0m \u001b[0msave_all\u001b[0m\u001b[1;33m=\u001b[0m\u001b[1;32mTrue\u001b[0m\u001b[1;33m,\u001b[0m \u001b[0mappend_images\u001b[0m\u001b[1;33m=\u001b[0m\u001b[0mimages\u001b[0m\u001b[1;33m[\u001b[0m\u001b[1;36m1\u001b[0m\u001b[1;33m:\u001b[0m\u001b[1;33m]\u001b[0m\u001b[1;33m,\u001b[0m \u001b[0moptimize\u001b[0m\u001b[1;33m=\u001b[0m\u001b[1;32mFalse\u001b[0m\u001b[1;33m,\u001b[0m \u001b[0mduration\u001b[0m\u001b[1;33m=\u001b[0m\u001b[1;36m100\u001b[0m\u001b[1;33m,\u001b[0m \u001b[0mloop\u001b[0m\u001b[1;33m=\u001b[0m\u001b[1;36m0\u001b[0m\u001b[1;33m)\u001b[0m\u001b[1;33m\u001b[0m\u001b[1;33m\u001b[0m\u001b[0m\n\u001b[0m",
      "\u001b[1;32m~\\Anaconda3\\lib\\site-packages\\PIL\\Image.py\u001b[0m in \u001b[0;36msave\u001b[1;34m(self, fp, format, **params)\u001b[0m\n\u001b[0;32m   2079\u001b[0m                 \u001b[0mfp\u001b[0m \u001b[1;33m=\u001b[0m \u001b[0mbuiltins\u001b[0m\u001b[1;33m.\u001b[0m\u001b[0mopen\u001b[0m\u001b[1;33m(\u001b[0m\u001b[0mfilename\u001b[0m\u001b[1;33m,\u001b[0m \u001b[1;34m\"r+b\"\u001b[0m\u001b[1;33m)\u001b[0m\u001b[1;33m\u001b[0m\u001b[1;33m\u001b[0m\u001b[0m\n\u001b[0;32m   2080\u001b[0m             \u001b[1;32melse\u001b[0m\u001b[1;33m:\u001b[0m\u001b[1;33m\u001b[0m\u001b[1;33m\u001b[0m\u001b[0m\n\u001b[1;32m-> 2081\u001b[1;33m                 \u001b[0mfp\u001b[0m \u001b[1;33m=\u001b[0m \u001b[0mbuiltins\u001b[0m\u001b[1;33m.\u001b[0m\u001b[0mopen\u001b[0m\u001b[1;33m(\u001b[0m\u001b[0mfilename\u001b[0m\u001b[1;33m,\u001b[0m \u001b[1;34m\"w+b\"\u001b[0m\u001b[1;33m)\u001b[0m\u001b[1;33m\u001b[0m\u001b[1;33m\u001b[0m\u001b[0m\n\u001b[0m\u001b[0;32m   2082\u001b[0m \u001b[1;33m\u001b[0m\u001b[0m\n\u001b[0;32m   2083\u001b[0m         \u001b[1;32mtry\u001b[0m\u001b[1;33m:\u001b[0m\u001b[1;33m\u001b[0m\u001b[1;33m\u001b[0m\u001b[0m\n",
      "\u001b[1;31mPermissionError\u001b[0m: [Errno 13] Permission denied: './data/kmeans//M2_kmeans.gif'"
     ]
    }
   ],
   "source": [
    "MakeGif('./data/kmeans/final_gif', './data/kmeans/', 'M2_kmeans', 100, 'png')"
   ]
  },
  {
   "cell_type": "code",
   "execution_count": null,
   "metadata": {},
   "outputs": [],
   "source": [
    "#DEPRECATED\n",
    "'''#elbow graph for visual estimation of ideal cluster count\n",
    "clusters = range(1,16)\n",
    "\n",
    "kmeans = [KMeans(n_clusters=i) for i in clusters]\n",
    "\n",
    "y = df[['Lat']]\n",
    "x = df[['Long']]\n",
    "\n",
    "score = [kmeans[i].fit(y).score(y) for i in range(len(kmeans))]\n",
    "\n",
    "plt.plot(clusters, score)\n",
    "\n",
    "plt.show()'''\n",
    "\n",
    "'''#kmeans using the set cluster count\n",
    "kmeans = KMeans(n_clusters=4, init='k-means++')\n",
    "cluster_df = coord_df\n",
    "kmeans.fit(cluster_df)\n",
    "cluster_df['segment'] = kmeans.fit_predict(cluster_df)\n",
    "inertia = kmeans.inertia_\n",
    "labels = kmeans.predict(cluster_df[cluster_df.columns[:2]])\n",
    "centers = kmeans.cluster_centers_\n",
    "\n",
    "cluster_df.plot.scatter(x='Lat',y='Long', c=labels, s=50, cmap='spring', figsize=(20,20))\n",
    "plt.scatter(centers[:, 0], centers[:, 1], c='black', s= 200, alpha=.5)\n",
    "\n",
    "plt.show()'''\n",
    "\n",
    "'''for n_clusters in range(1,16):\n",
    "        kmeans = KMeans(n_clusters=n_clusters, init='k-means++')\n",
    "        kmeans.fit(cluster_df)\n",
    "        inertia = kmeans.inertia_\n",
    "        print(\"Cluster count: \", n_clusters, \"\\tInertia: \", inertia)\n",
    "        '''"
   ]
  },
  {
   "cell_type": "markdown",
   "metadata": {},
   "source": []
  }
 ],
 "metadata": {
  "kernelspec": {
   "display_name": "Python 3",
   "language": "python",
   "name": "python3"
  },
  "language_info": {
   "codemirror_mode": {
    "name": "ipython",
    "version": 3
   },
   "file_extension": ".py",
   "mimetype": "text/x-python",
   "name": "python",
   "nbconvert_exporter": "python",
   "pygments_lexer": "ipython3",
   "version": "3.7.4"
  }
 },
 "nbformat": 4,
 "nbformat_minor": 2
}
